{
  "nbformat": 4,
  "nbformat_minor": 0,
  "metadata": {
    "colab": {
      "name": "EyapSalesGozde-GörselleştirmelerNewipynb adlı not defterinin kopyası",
      "provenance": []
    },
    "kernelspec": {
      "name": "python3",
      "display_name": "Python 3"
    },
    "language_info": {
      "name": "python"
    }
  },
  "cells": [
    {
      "cell_type": "markdown",
      "metadata": {
        "id": "rBy7V5F4beB4"
      },
      "source": [
        "**Eyap Sales Dataset**"
      ]
    },
    {
      "cell_type": "code",
      "metadata": {
        "id": "un8PbHvTbOmG"
      },
      "source": [
        "#importing libraries\n",
        "import numpy as np\n",
        "import pandas as pd\n",
        "import seaborn as sns\n",
        "import matplotlib.pyplot as plt\n",
        "%matplotlib inline"
      ],
      "execution_count": null,
      "outputs": []
    },
    {
      "cell_type": "markdown",
      "metadata": {
        "id": "jBNMtdvWcG8M"
      },
      "source": [
        "*Getting the dataset*"
      ]
    },
    {
      "cell_type": "code",
      "metadata": {
        "colab": {
          "base_uri": "https://localhost:8080/",
          "height": 493
        },
        "id": "8JBilUFGb-5o",
        "outputId": "f5eb3b0b-2551-4543-9950-6e1d570084a2"
      },
      "source": [
        "df = pd.read_csv('EYAP_BAYI_SATIS.csv', encoding ='ISO-8859-9', sep=\";\", header=0)\n",
        "df.head()"
      ],
      "execution_count": null,
      "outputs": [
        {
          "output_type": "execute_result",
          "data": {
            "text/html": [
              "<div>\n",
              "<style scoped>\n",
              "    .dataframe tbody tr th:only-of-type {\n",
              "        vertical-align: middle;\n",
              "    }\n",
              "\n",
              "    .dataframe tbody tr th {\n",
              "        vertical-align: top;\n",
              "    }\n",
              "\n",
              "    .dataframe thead th {\n",
              "        text-align: right;\n",
              "    }\n",
              "</style>\n",
              "<table border=\"1\" class=\"dataframe\">\n",
              "  <thead>\n",
              "    <tr style=\"text-align: right;\">\n",
              "      <th></th>\n",
              "      <th>Yetkili Satıcı Kod</th>\n",
              "      <th>Müşteri Kod</th>\n",
              "      <th>MatbuNo</th>\n",
              "      <th>FaturaTarihi</th>\n",
              "      <th>Hiyerarşi 1</th>\n",
              "      <th>Hiyerarşi 2</th>\n",
              "      <th>Hiyerarşi 3</th>\n",
              "      <th>Net Fiyat_Sum</th>\n",
              "      <th>Adet_Sum</th>\n",
              "      <th>URUN</th>\n",
              "    </tr>\n",
              "  </thead>\n",
              "  <tbody>\n",
              "    <tr>\n",
              "      <th>0</th>\n",
              "      <td>anon_S0</td>\n",
              "      <td>120.05.183</td>\n",
              "      <td>OLC2018000000145</td>\n",
              "      <td>2018.01.12</td>\n",
              "      <td>Armatür, Aksesuar &amp; Gömme Reze</td>\n",
              "      <td>Armatürler</td>\n",
              "      <td>Armatür</td>\n",
              "      <td>1150.56</td>\n",
              "      <td>1.0</td>\n",
              "      <td>A</td>\n",
              "    </tr>\n",
              "    <tr>\n",
              "      <th>1</th>\n",
              "      <td>anon_S2</td>\n",
              "      <td>120.12.TKV0246</td>\n",
              "      <td>AR52018000000146</td>\n",
              "      <td>2018.01.31</td>\n",
              "      <td>Armatür, Aksesuar &amp; Gömme Reze</td>\n",
              "      <td>Armatürler</td>\n",
              "      <td>Armatür</td>\n",
              "      <td>6240.00</td>\n",
              "      <td>5.0</td>\n",
              "      <td>A</td>\n",
              "    </tr>\n",
              "    <tr>\n",
              "      <th>2</th>\n",
              "      <td>anon_S0</td>\n",
              "      <td>120.15.510</td>\n",
              "      <td>EO12018000000545</td>\n",
              "      <td>2018.01.23</td>\n",
              "      <td>Armatür, Aksesuar &amp; Gömme Reze</td>\n",
              "      <td>Armatürler</td>\n",
              "      <td>Armatür</td>\n",
              "      <td>1342.80</td>\n",
              "      <td>1.0</td>\n",
              "      <td>A</td>\n",
              "    </tr>\n",
              "    <tr>\n",
              "      <th>3</th>\n",
              "      <td>anon_S2</td>\n",
              "      <td>120.SB.ANT2294</td>\n",
              "      <td>AR82018000000016</td>\n",
              "      <td>2018.01.03</td>\n",
              "      <td>Armatür, Aksesuar &amp; Gömme Reze</td>\n",
              "      <td>Armatürler</td>\n",
              "      <td>Armatür</td>\n",
              "      <td>2250.00</td>\n",
              "      <td>2.0</td>\n",
              "      <td>A</td>\n",
              "    </tr>\n",
              "    <tr>\n",
              "      <th>4</th>\n",
              "      <td>anon_S2</td>\n",
              "      <td>120.SB.LARA0088</td>\n",
              "      <td>AR82018000000006</td>\n",
              "      <td>2018.01.03</td>\n",
              "      <td>Armatür, Aksesuar &amp; Gömme Reze</td>\n",
              "      <td>Armatürler</td>\n",
              "      <td>Armatür</td>\n",
              "      <td>1230.00</td>\n",
              "      <td>1.0</td>\n",
              "      <td>A</td>\n",
              "    </tr>\n",
              "  </tbody>\n",
              "</table>\n",
              "</div>"
            ],
            "text/plain": [
              "  Yetkili Satıcı Kod      Müşteri Kod  ... Adet_Sum URUN\n",
              "0            anon_S0       120.05.183  ...      1.0    A\n",
              "1            anon_S2   120.12.TKV0246  ...      5.0    A\n",
              "2            anon_S0       120.15.510  ...      1.0    A\n",
              "3            anon_S2   120.SB.ANT2294  ...      2.0    A\n",
              "4            anon_S2  120.SB.LARA0088  ...      1.0    A\n",
              "\n",
              "[5 rows x 10 columns]"
            ]
          },
          "metadata": {},
          "execution_count": 2
        }
      ]
    },
    {
      "cell_type": "markdown",
      "metadata": {
        "id": "t2NnL0zhcX_D"
      },
      "source": [
        "Explanations:\n",
        "\n",
        "* Yetkili Satıcı Kod: Yetkili satıcılar 3'e ayrılıyor. Anon_S0, Anon_S1, Anon_S2\n",
        "* Müşteri Kod\n",
        "* Matbuno\n",
        "* Fatura Tarihi: Ürünlerin hangi tarihlerde alındığını gösteriyor.\n",
        "* Hiyerarşi 1 \n",
        "* Hiyerarşi 2\n",
        "* Hiyerarşi 3\n",
        "* Net Fiyat Sum\n",
        "* Adet Sum : Kaç adet ürün alındığı veya iade edildiğini gösteriyor.\n",
        "* Urun: Ürünler 3 gruba ayrılıyor. Sırasıyla A, B ve C ürünlerinde oluşuyor."
      ]
    },
    {
      "cell_type": "code",
      "metadata": {
        "colab": {
          "base_uri": "https://localhost:8080/"
        },
        "id": "HyfmBAxncOyr",
        "outputId": "c8d2acfa-14f3-4a5f-a5f7-30734247411b"
      },
      "source": [
        "df.info()"
      ],
      "execution_count": null,
      "outputs": [
        {
          "output_type": "stream",
          "name": "stdout",
          "text": [
            "<class 'pandas.core.frame.DataFrame'>\n",
            "RangeIndex: 30449 entries, 0 to 30448\n",
            "Data columns (total 10 columns):\n",
            " #   Column              Non-Null Count  Dtype  \n",
            "---  ------              --------------  -----  \n",
            " 0   Yetkili Satıcı Kod  30449 non-null  object \n",
            " 1   Müşteri Kod         30449 non-null  object \n",
            " 2   MatbuNo             30449 non-null  object \n",
            " 3   FaturaTarihi        30449 non-null  object \n",
            " 4   Hiyerarşi 1         30449 non-null  object \n",
            " 5   Hiyerarşi 2         30449 non-null  object \n",
            " 6   Hiyerarşi 3         30449 non-null  object \n",
            " 7   Net Fiyat_Sum       30449 non-null  float64\n",
            " 8   Adet_Sum            30449 non-null  float64\n",
            " 9   URUN                30449 non-null  object \n",
            "dtypes: float64(2), object(8)\n",
            "memory usage: 2.3+ MB\n"
          ]
        }
      ]
    },
    {
      "cell_type": "markdown",
      "metadata": {
        "id": "rmqXipdBc1-c"
      },
      "source": [
        "Fatura tarihi, tarih formatında olmadığı için önce onu obje tipinden tarih tipine dönüştürelim."
      ]
    },
    {
      "cell_type": "code",
      "metadata": {
        "id": "HgicHCHKc0-g"
      },
      "source": [
        "df['FaturaTarihi'] = pd.to_datetime(df['FaturaTarihi'])"
      ],
      "execution_count": null,
      "outputs": []
    },
    {
      "cell_type": "markdown",
      "metadata": {
        "id": "bJHKnqZNd0Mz"
      },
      "source": [
        "Fatura tarihini tarih tipine dönüştürdükten sonra tarih kolonları arttırdık.\n",
        "*  Gün ay ve yıl kolonları olarak ayırdık."
      ]
    },
    {
      "cell_type": "code",
      "metadata": {
        "id": "7dFIb8T1diFV"
      },
      "source": [
        "df['Weekday'] = df['FaturaTarihi'].dt.day_name()\n",
        "df['MonthName'] = df['FaturaTarihi'].dt.month_name()\n",
        "df[\"year\"] = df['FaturaTarihi'].map(lambda x: x.year)"
      ],
      "execution_count": null,
      "outputs": []
    },
    {
      "cell_type": "code",
      "metadata": {
        "colab": {
          "base_uri": "https://localhost:8080/",
          "height": 513
        },
        "id": "3M_BOrozdvGZ",
        "outputId": "37656710-91e0-4f55-c58b-ea77d8adf16d"
      },
      "source": [
        "df.head()"
      ],
      "execution_count": null,
      "outputs": [
        {
          "output_type": "execute_result",
          "data": {
            "text/html": [
              "<div>\n",
              "<style scoped>\n",
              "    .dataframe tbody tr th:only-of-type {\n",
              "        vertical-align: middle;\n",
              "    }\n",
              "\n",
              "    .dataframe tbody tr th {\n",
              "        vertical-align: top;\n",
              "    }\n",
              "\n",
              "    .dataframe thead th {\n",
              "        text-align: right;\n",
              "    }\n",
              "</style>\n",
              "<table border=\"1\" class=\"dataframe\">\n",
              "  <thead>\n",
              "    <tr style=\"text-align: right;\">\n",
              "      <th></th>\n",
              "      <th>Yetkili Satıcı Kod</th>\n",
              "      <th>Müşteri Kod</th>\n",
              "      <th>MatbuNo</th>\n",
              "      <th>FaturaTarihi</th>\n",
              "      <th>Hiyerarşi 1</th>\n",
              "      <th>Hiyerarşi 2</th>\n",
              "      <th>Hiyerarşi 3</th>\n",
              "      <th>Net Fiyat_Sum</th>\n",
              "      <th>Adet_Sum</th>\n",
              "      <th>URUN</th>\n",
              "      <th>Weekday</th>\n",
              "      <th>MonthName</th>\n",
              "      <th>year</th>\n",
              "    </tr>\n",
              "  </thead>\n",
              "  <tbody>\n",
              "    <tr>\n",
              "      <th>0</th>\n",
              "      <td>anon_S0</td>\n",
              "      <td>120.05.183</td>\n",
              "      <td>OLC2018000000145</td>\n",
              "      <td>2018-01-12</td>\n",
              "      <td>Armatür, Aksesuar &amp; Gömme Reze</td>\n",
              "      <td>Armatürler</td>\n",
              "      <td>Armatür</td>\n",
              "      <td>1150.56</td>\n",
              "      <td>1.0</td>\n",
              "      <td>A</td>\n",
              "      <td>Friday</td>\n",
              "      <td>January</td>\n",
              "      <td>2018</td>\n",
              "    </tr>\n",
              "    <tr>\n",
              "      <th>1</th>\n",
              "      <td>anon_S2</td>\n",
              "      <td>120.12.TKV0246</td>\n",
              "      <td>AR52018000000146</td>\n",
              "      <td>2018-01-31</td>\n",
              "      <td>Armatür, Aksesuar &amp; Gömme Reze</td>\n",
              "      <td>Armatürler</td>\n",
              "      <td>Armatür</td>\n",
              "      <td>6240.00</td>\n",
              "      <td>5.0</td>\n",
              "      <td>A</td>\n",
              "      <td>Wednesday</td>\n",
              "      <td>January</td>\n",
              "      <td>2018</td>\n",
              "    </tr>\n",
              "    <tr>\n",
              "      <th>2</th>\n",
              "      <td>anon_S0</td>\n",
              "      <td>120.15.510</td>\n",
              "      <td>EO12018000000545</td>\n",
              "      <td>2018-01-23</td>\n",
              "      <td>Armatür, Aksesuar &amp; Gömme Reze</td>\n",
              "      <td>Armatürler</td>\n",
              "      <td>Armatür</td>\n",
              "      <td>1342.80</td>\n",
              "      <td>1.0</td>\n",
              "      <td>A</td>\n",
              "      <td>Tuesday</td>\n",
              "      <td>January</td>\n",
              "      <td>2018</td>\n",
              "    </tr>\n",
              "    <tr>\n",
              "      <th>3</th>\n",
              "      <td>anon_S2</td>\n",
              "      <td>120.SB.ANT2294</td>\n",
              "      <td>AR82018000000016</td>\n",
              "      <td>2018-01-03</td>\n",
              "      <td>Armatür, Aksesuar &amp; Gömme Reze</td>\n",
              "      <td>Armatürler</td>\n",
              "      <td>Armatür</td>\n",
              "      <td>2250.00</td>\n",
              "      <td>2.0</td>\n",
              "      <td>A</td>\n",
              "      <td>Wednesday</td>\n",
              "      <td>January</td>\n",
              "      <td>2018</td>\n",
              "    </tr>\n",
              "    <tr>\n",
              "      <th>4</th>\n",
              "      <td>anon_S2</td>\n",
              "      <td>120.SB.LARA0088</td>\n",
              "      <td>AR82018000000006</td>\n",
              "      <td>2018-01-03</td>\n",
              "      <td>Armatür, Aksesuar &amp; Gömme Reze</td>\n",
              "      <td>Armatürler</td>\n",
              "      <td>Armatür</td>\n",
              "      <td>1230.00</td>\n",
              "      <td>1.0</td>\n",
              "      <td>A</td>\n",
              "      <td>Wednesday</td>\n",
              "      <td>January</td>\n",
              "      <td>2018</td>\n",
              "    </tr>\n",
              "  </tbody>\n",
              "</table>\n",
              "</div>"
            ],
            "text/plain": [
              "  Yetkili Satıcı Kod      Müşteri Kod  ... MonthName  year\n",
              "0            anon_S0       120.05.183  ...   January  2018\n",
              "1            anon_S2   120.12.TKV0246  ...   January  2018\n",
              "2            anon_S0       120.15.510  ...   January  2018\n",
              "3            anon_S2   120.SB.ANT2294  ...   January  2018\n",
              "4            anon_S2  120.SB.LARA0088  ...   January  2018\n",
              "\n",
              "[5 rows x 13 columns]"
            ]
          },
          "metadata": {},
          "execution_count": 6
        }
      ]
    },
    {
      "cell_type": "code",
      "metadata": {
        "colab": {
          "base_uri": "https://localhost:8080/",
          "height": 142
        },
        "id": "jDwkDhGRdwpG",
        "outputId": "eb8aff99-97f4-4928-cf18-723d92b7fb08"
      },
      "source": [
        "df.describe().T"
      ],
      "execution_count": null,
      "outputs": [
        {
          "output_type": "execute_result",
          "data": {
            "text/html": [
              "<div>\n",
              "<style scoped>\n",
              "    .dataframe tbody tr th:only-of-type {\n",
              "        vertical-align: middle;\n",
              "    }\n",
              "\n",
              "    .dataframe tbody tr th {\n",
              "        vertical-align: top;\n",
              "    }\n",
              "\n",
              "    .dataframe thead th {\n",
              "        text-align: right;\n",
              "    }\n",
              "</style>\n",
              "<table border=\"1\" class=\"dataframe\">\n",
              "  <thead>\n",
              "    <tr style=\"text-align: right;\">\n",
              "      <th></th>\n",
              "      <th>count</th>\n",
              "      <th>mean</th>\n",
              "      <th>std</th>\n",
              "      <th>min</th>\n",
              "      <th>25%</th>\n",
              "      <th>50%</th>\n",
              "      <th>75%</th>\n",
              "      <th>max</th>\n",
              "    </tr>\n",
              "  </thead>\n",
              "  <tbody>\n",
              "    <tr>\n",
              "      <th>Net Fiyat_Sum</th>\n",
              "      <td>30449.0</td>\n",
              "      <td>3879.690018</td>\n",
              "      <td>7829.840045</td>\n",
              "      <td>-65408.4</td>\n",
              "      <td>1434.0</td>\n",
              "      <td>2448.3</td>\n",
              "      <td>4496.3388</td>\n",
              "      <td>478026.0</td>\n",
              "    </tr>\n",
              "    <tr>\n",
              "      <th>Adet_Sum</th>\n",
              "      <td>30449.0</td>\n",
              "      <td>1.478538</td>\n",
              "      <td>1.885659</td>\n",
              "      <td>-32.0</td>\n",
              "      <td>1.0</td>\n",
              "      <td>1.0</td>\n",
              "      <td>2.0000</td>\n",
              "      <td>125.0</td>\n",
              "    </tr>\n",
              "    <tr>\n",
              "      <th>year</th>\n",
              "      <td>30449.0</td>\n",
              "      <td>2019.042005</td>\n",
              "      <td>0.841936</td>\n",
              "      <td>2018.0</td>\n",
              "      <td>2018.0</td>\n",
              "      <td>2019.0</td>\n",
              "      <td>2020.0000</td>\n",
              "      <td>2020.0</td>\n",
              "    </tr>\n",
              "  </tbody>\n",
              "</table>\n",
              "</div>"
            ],
            "text/plain": [
              "                 count         mean          std  ...     50%        75%       max\n",
              "Net Fiyat_Sum  30449.0  3879.690018  7829.840045  ...  2448.3  4496.3388  478026.0\n",
              "Adet_Sum       30449.0     1.478538     1.885659  ...     1.0     2.0000     125.0\n",
              "year           30449.0  2019.042005     0.841936  ...  2019.0  2020.0000    2020.0\n",
              "\n",
              "[3 rows x 8 columns]"
            ]
          },
          "metadata": {},
          "execution_count": 7
        }
      ]
    },
    {
      "cell_type": "code",
      "metadata": {
        "colab": {
          "base_uri": "https://localhost:8080/"
        },
        "id": "Jh_S-ULXPV07",
        "outputId": "c91f1fb6-ee1c-4a75-99b6-2ba816b8a5ba"
      },
      "source": [
        "df['URUN'].value_counts()"
      ],
      "execution_count": null,
      "outputs": [
        {
          "output_type": "execute_result",
          "data": {
            "text/plain": [
              "A    13659\n",
              "B    13520\n",
              "C     3270\n",
              "Name: URUN, dtype: int64"
            ]
          },
          "metadata": {},
          "execution_count": 47
        }
      ]
    },
    {
      "cell_type": "code",
      "metadata": {
        "colab": {
          "base_uri": "https://localhost:8080/"
        },
        "id": "O1V5cZT7PuUl",
        "outputId": "c100bc92-caaa-49db-d9a5-49b86260e241"
      },
      "source": [
        "df['Yetkili Satıcı Kod'].value_counts()"
      ],
      "execution_count": null,
      "outputs": [
        {
          "output_type": "execute_result",
          "data": {
            "text/plain": [
              "anon_S2    12630\n",
              "anon_S0     9126\n",
              "anon_S1     8693\n",
              "Name: Yetkili Satıcı Kod, dtype: int64"
            ]
          },
          "metadata": {},
          "execution_count": 48
        }
      ]
    },
    {
      "cell_type": "markdown",
      "metadata": {
        "id": "jhyqJi-RezYC"
      },
      "source": [
        "# Verinin tamamı üzerinde bazı görselleştirmeler yapalım."
      ]
    },
    {
      "cell_type": "code",
      "metadata": {
        "id": "xFi35Ra6fz81",
        "colab": {
          "base_uri": "https://localhost:8080/",
          "height": 296
        },
        "outputId": "59d1c038-44c1-4477-d4a1-6c7bd388eea9"
      },
      "source": [
        "sns.barplot(x=\"year\", y=\"Net Fiyat_Sum\", hue=\"Hiyerarşi 3\", data=df)"
      ],
      "execution_count": null,
      "outputs": [
        {
          "output_type": "execute_result",
          "data": {
            "text/plain": [
              "<matplotlib.axes._subplots.AxesSubplot at 0x7ff95c6c4850>"
            ]
          },
          "metadata": {},
          "execution_count": 8
        },
        {
          "output_type": "display_data",
          "data": {
            "image/png": "[encoded data removed]",
            "text/plain": [
              "<Figure size 432x288 with 1 Axes>"
            ]
          },
          "metadata": {
            "needs_background": "light"
          }
        }
      ]
    },
    {
      "cell_type": "code",
      "metadata": {
        "id": "X-neRN2KecQr",
        "colab": {
          "base_uri": "https://localhost:8080/",
          "height": 425
        },
        "outputId": "12e8eb9e-fb1e-46a2-f472-69c79faae856"
      },
      "source": [
        "g = sns.catplot(data=df, x='MonthName', y='Net Fiyat_Sum')\n",
        "g.fig.set_figwidth(13.10)\n",
        "g.fig.set_figheight(5.7)"
      ],
      "execution_count": null,
      "outputs": [
        {
          "output_type": "display_data",
          "data": {
            "image/png": "[encoded data removed]",
            "text/plain": [
              "<Figure size 943.2x410.4 with 1 Axes>"
            ]
          },
          "metadata": {}
        }
      ]
    },
    {
      "cell_type": "code",
      "metadata": {
        "colab": {
          "base_uri": "https://localhost:8080/",
          "height": 534
        },
        "id": "XkeGWdUulk1H",
        "outputId": "a6557b81-4e55-4a9a-bb9b-3057630479f9"
      },
      "source": [
        "sns.barplot(x=\"MonthName\", y=\"Net Fiyat_Sum\", data=df)"
      ],
      "execution_count": null,
      "outputs": [
        {
          "output_type": "execute_result",
          "data": {
            "text/plain": [
              "<matplotlib.axes._subplots.AxesSubplot at 0x7ff94e29e3d0>"
            ]
          },
          "metadata": {},
          "execution_count": 90
        },
        {
          "output_type": "display_data",
          "data": {
            "image/png": "[encoded data removed]",
            "text/plain": [
              "<Figure size 842.4x595.44 with 1 Axes>"
            ]
          },
          "metadata": {}
        }
      ]
    },
    {
      "cell_type": "markdown",
      "metadata": {
        "id": "4aqSbuTtul82"
      },
      "source": [
        "**Bu veri seti iade edilen ürünlerle beraber olduğu için net fiyat değerinin sıfırdan büyük olduğu yani satılan ürünleri ayrıca incelemek istedim.**"
      ]
    },
    {
      "cell_type": "code",
      "metadata": {
        "colab": {
          "base_uri": "https://localhost:8080/"
        },
        "id": "IPYDcxmFuxtH",
        "outputId": "9f7946da-392e-4838-98f7-482c096adb50"
      },
      "source": [
        "df[df['Net Fiyat_Sum']>0].count()"
      ],
      "execution_count": null,
      "outputs": [
        {
          "output_type": "execute_result",
          "data": {
            "text/plain": [
              "Yetkili Satıcı Kod    29159\n",
              "Müşteri Kod           29159\n",
              "MatbuNo               29159\n",
              "FaturaTarihi          29159\n",
              "Hiyerarşi 1           29159\n",
              "Hiyerarşi 2           29159\n",
              "Hiyerarşi 3           29159\n",
              "Net Fiyat_Sum         29159\n",
              "Adet_Sum              29159\n",
              "URUN                  29159\n",
              "Weekday               29159\n",
              "MonthName             29159\n",
              "year                  29159\n",
              "dtype: int64"
            ]
          },
          "metadata": {},
          "execution_count": 9
        }
      ]
    },
    {
      "cell_type": "markdown",
      "metadata": {
        "id": "9gmBEYQku9Bm"
      },
      "source": [
        "29159 ürünü incelemeye başlayalım.\n",
        "* Öncelikle farklı bir veri seti gibi isimlendirelim."
      ]
    },
    {
      "cell_type": "code",
      "metadata": {
        "id": "oNqx9qIVvF3T"
      },
      "source": [
        "EyapSatış = df[df['Net Fiyat_Sum']>0]"
      ],
      "execution_count": null,
      "outputs": []
    },
    {
      "cell_type": "code",
      "metadata": {
        "colab": {
          "base_uri": "https://localhost:8080/",
          "height": 142
        },
        "id": "Z-To2_W0vNfQ",
        "outputId": "39e634d0-328a-456b-f9a8-e2ee80604735"
      },
      "source": [
        "EyapSatış.describe().T"
      ],
      "execution_count": null,
      "outputs": [
        {
          "output_type": "execute_result",
          "data": {
            "text/html": [
              "<div>\n",
              "<style scoped>\n",
              "    .dataframe tbody tr th:only-of-type {\n",
              "        vertical-align: middle;\n",
              "    }\n",
              "\n",
              "    .dataframe tbody tr th {\n",
              "        vertical-align: top;\n",
              "    }\n",
              "\n",
              "    .dataframe thead th {\n",
              "        text-align: right;\n",
              "    }\n",
              "</style>\n",
              "<table border=\"1\" class=\"dataframe\">\n",
              "  <thead>\n",
              "    <tr style=\"text-align: right;\">\n",
              "      <th></th>\n",
              "      <th>count</th>\n",
              "      <th>mean</th>\n",
              "      <th>std</th>\n",
              "      <th>min</th>\n",
              "      <th>25%</th>\n",
              "      <th>50%</th>\n",
              "      <th>75%</th>\n",
              "      <th>max</th>\n",
              "    </tr>\n",
              "  </thead>\n",
              "  <tbody>\n",
              "    <tr>\n",
              "      <th>Net Fiyat_Sum</th>\n",
              "      <td>29159.0</td>\n",
              "      <td>4185.858801</td>\n",
              "      <td>7814.744026</td>\n",
              "      <td>14.4</td>\n",
              "      <td>1547.174508</td>\n",
              "      <td>2567.1</td>\n",
              "      <td>4652.3862</td>\n",
              "      <td>478026.0</td>\n",
              "    </tr>\n",
              "    <tr>\n",
              "      <th>Adet_Sum</th>\n",
              "      <td>29159.0</td>\n",
              "      <td>1.610378</td>\n",
              "      <td>1.769548</td>\n",
              "      <td>-1.0</td>\n",
              "      <td>1.000000</td>\n",
              "      <td>1.0</td>\n",
              "      <td>2.0000</td>\n",
              "      <td>125.0</td>\n",
              "    </tr>\n",
              "    <tr>\n",
              "      <th>year</th>\n",
              "      <td>29159.0</td>\n",
              "      <td>2019.038753</td>\n",
              "      <td>0.842575</td>\n",
              "      <td>2018.0</td>\n",
              "      <td>2018.000000</td>\n",
              "      <td>2019.0</td>\n",
              "      <td>2020.0000</td>\n",
              "      <td>2020.0</td>\n",
              "    </tr>\n",
              "  </tbody>\n",
              "</table>\n",
              "</div>"
            ],
            "text/plain": [
              "                 count         mean          std  ...     50%        75%       max\n",
              "Net Fiyat_Sum  29159.0  4185.858801  7814.744026  ...  2567.1  4652.3862  478026.0\n",
              "Adet_Sum       29159.0     1.610378     1.769548  ...     1.0     2.0000     125.0\n",
              "year           29159.0  2019.038753     0.842575  ...  2019.0  2020.0000    2020.0\n",
              "\n",
              "[3 rows x 8 columns]"
            ]
          },
          "metadata": {},
          "execution_count": 11
        }
      ]
    },
    {
      "cell_type": "code",
      "metadata": {
        "colab": {
          "base_uri": "https://localhost:8080/"
        },
        "id": "OF82PMeNvVd-",
        "outputId": "ffb62d98-94f0-4985-d4df-7e4654ec2e8b"
      },
      "source": [
        "# Burada en çok hangi ürünün satıldığını görmek istedik.\n",
        "EyapSatış['URUN'].value_counts()"
      ],
      "execution_count": null,
      "outputs": [
        {
          "output_type": "execute_result",
          "data": {
            "text/plain": [
              "A    13115\n",
              "B    12882\n",
              "C     3162\n",
              "Name: URUN, dtype: int64"
            ]
          },
          "metadata": {},
          "execution_count": 12
        }
      ]
    },
    {
      "cell_type": "code",
      "metadata": {
        "colab": {
          "base_uri": "https://localhost:8080/"
        },
        "id": "y-nuZVr0QE9e",
        "outputId": "b8ad4823-38a2-4984-949e-0f3562636db7"
      },
      "source": [
        "# Burada en çok hangi yetkili satıcılar tarafından satıldığını görmek istedik.\n",
        "EyapSatış['Yetkili Satıcı Kod'].value_counts()"
      ],
      "execution_count": null,
      "outputs": [
        {
          "output_type": "execute_result",
          "data": {
            "text/plain": [
              "anon_S2    12094\n",
              "anon_S0     8726\n",
              "anon_S1     8339\n",
              "Name: Yetkili Satıcı Kod, dtype: int64"
            ]
          },
          "metadata": {},
          "execution_count": 50
        }
      ]
    },
    {
      "cell_type": "markdown",
      "metadata": {
        "id": "k8OYaEsrQ-06"
      },
      "source": [
        "İade edilen "
      ]
    },
    {
      "cell_type": "markdown",
      "metadata": {
        "id": "dgZHDqaBviwe"
      },
      "source": [
        "A ve B ürünlerinin satış sayıları benzerken C ürününden az sayıda ürün satılmış.\n",
        "*  Şimdi bu ürünleri görselleştirelim."
      ]
    },
    {
      "cell_type": "code",
      "metadata": {
        "colab": {
          "base_uri": "https://localhost:8080/",
          "height": 296
        },
        "id": "_ogMKEv6vpDr",
        "outputId": "db43517f-bfaa-43d9-e8ab-5e6a3b0076d2"
      },
      "source": [
        "sns.countplot(x=\"URUN\", data=EyapSatış)"
      ],
      "execution_count": null,
      "outputs": [
        {
          "output_type": "execute_result",
          "data": {
            "text/plain": [
              "<matplotlib.axes._subplots.AxesSubplot at 0x7ff95baacc50>"
            ]
          },
          "metadata": {},
          "execution_count": 13
        },
        {
          "output_type": "display_data",
          "data": {
            "image/png": "[encoded data removed]",
            "text/plain": [
              "<Figure size 432x288 with 1 Axes>"
            ]
          },
          "metadata": {
            "needs_background": "light"
          }
        }
      ]
    },
    {
      "cell_type": "markdown",
      "metadata": {
        "id": "_LDKIze4JN1x"
      },
      "source": [
        "Şimdi de yetkili satıcılarını inceleyelim.\n",
        "* Ardından görselleştirelim."
      ]
    },
    {
      "cell_type": "code",
      "metadata": {
        "colab": {
          "base_uri": "https://localhost:8080/"
        },
        "id": "96JW375VJUyJ",
        "outputId": "0f91c7a8-06ec-4da8-f2da-bcadb7b02c31"
      },
      "source": [
        "# En fazla hangi yetkili satıcıdan alım yapıldığına bakalım.\n",
        "EyapSatış['Yetkili Satıcı Kod'].value_counts()"
      ],
      "execution_count": null,
      "outputs": [
        {
          "output_type": "execute_result",
          "data": {
            "text/plain": [
              "anon_S2    12094\n",
              "anon_S0     8726\n",
              "anon_S1     8339\n",
              "Name: Yetkili Satıcı Kod, dtype: int64"
            ]
          },
          "metadata": {},
          "execution_count": 38
        }
      ]
    },
    {
      "cell_type": "code",
      "metadata": {
        "colab": {
          "base_uri": "https://localhost:8080/",
          "height": 297
        },
        "id": "QQc0qOnmJg2v",
        "outputId": "6489ee4e-7479-47e7-f50f-d8c7f3ad9b78"
      },
      "source": [
        "sns.countplot(x=\"Yetkili Satıcı Kod\", data=EyapSatış)"
      ],
      "execution_count": null,
      "outputs": [
        {
          "output_type": "execute_result",
          "data": {
            "text/plain": [
              "<matplotlib.axes._subplots.AxesSubplot at 0x7ff95b5f1a50>"
            ]
          },
          "metadata": {},
          "execution_count": 39
        },
        {
          "output_type": "display_data",
          "data": {
            "image/png": "[encoded data removed]",
            "text/plain": [
              "<Figure size 432x288 with 1 Axes>"
            ]
          },
          "metadata": {
            "needs_background": "light"
          }
        }
      ]
    },
    {
      "cell_type": "code",
      "metadata": {
        "colab": {
          "base_uri": "https://localhost:8080/",
          "height": 297
        },
        "id": "sixWt_5MLyb4",
        "outputId": "7ff24a8f-d2ee-465b-e9c4-04310f73bc9b"
      },
      "source": [
        "# Bu satışların hangi aylarda en çok yapıldığına bakalım.\n",
        "sns.barplot(x=\"Net Fiyat_Sum\", y=\"MonthName\", data=EyapSatış)"
      ],
      "execution_count": null,
      "outputs": [
        {
          "output_type": "execute_result",
          "data": {
            "text/plain": [
              "<matplotlib.axes._subplots.AxesSubplot at 0x7ff95b9a4550>"
            ]
          },
          "metadata": {},
          "execution_count": 43
        },
        {
          "output_type": "display_data",
          "data": {
            "image/png": "[encoded data removed]",
            "text/plain": [
              "<Figure size 432x288 with 1 Axes>"
            ]
          },
          "metadata": {
            "needs_background": "light"
          }
        }
      ]
    },
    {
      "cell_type": "code",
      "metadata": {
        "colab": {
          "base_uri": "https://localhost:8080/",
          "height": 297
        },
        "id": "wke4MK2TNK-H",
        "outputId": "6a920301-02de-40b9-8d50-94b98fc7ff4f"
      },
      "source": [
        "sns.barplot(x=\"Adet_Sum\", y=\"MonthName\", data=EyapSatış)\n",
        "# Adet bazında baktığımızda çok büyük değişiklikler azalıyor."
      ],
      "execution_count": null,
      "outputs": [
        {
          "output_type": "execute_result",
          "data": {
            "text/plain": [
              "<matplotlib.axes._subplots.AxesSubplot at 0x7ff95b308fd0>"
            ]
          },
          "metadata": {},
          "execution_count": 45
        },
        {
          "output_type": "display_data",
          "data": {
            "image/png": "[encoded data removed]",
            "text/plain": [
              "<Figure size 432x288 with 1 Axes>"
            ]
          },
          "metadata": {
            "needs_background": "light"
          }
        }
      ]
    },
    {
      "cell_type": "code",
      "metadata": {
        "colab": {
          "base_uri": "https://localhost:8080/",
          "height": 297
        },
        "id": "1I5E5v-yMFBj",
        "outputId": "a9311c4e-78d0-43c9-90d3-d280d1e3a051"
      },
      "source": [
        "# Bu satışların en çok hangi günlerde yapıldığına bakalım.\n",
        "sns.barplot(x=\"Net Fiyat_Sum\", y=\"Weekday\", data=EyapSatış)\n",
        "\n",
        "# Pazar, Pazartesi ve Salı günlere diğer günlere oranla görece düşük görünüyor."
      ],
      "execution_count": null,
      "outputs": [
        {
          "output_type": "execute_result",
          "data": {
            "text/plain": [
              "<matplotlib.axes._subplots.AxesSubplot at 0x7ff95b6dbb10>"
            ]
          },
          "metadata": {},
          "execution_count": 41
        },
        {
          "output_type": "display_data",
          "data": {
            "image/png": "[encoded data removed]",
            "text/plain": [
              "<Figure size 432x288 with 1 Axes>"
            ]
          },
          "metadata": {
            "needs_background": "light"
          }
        }
      ]
    },
    {
      "cell_type": "code",
      "metadata": {
        "colab": {
          "base_uri": "https://localhost:8080/",
          "height": 297
        },
        "id": "uw3o76QMMu2i",
        "outputId": "17f78416-663e-4532-f282-0d3b00e588a3"
      },
      "source": [
        "# Yukarıda bu satış miktarlarının fiyat bazında en çok hangi günlerde yapıldığına bakmıştım.\n",
        "# Ancak adet sayıları bize daha çok hangi gün müşterilerin geleceğiyle ilgili bilgi verebilir diye adet sayıları üzerinden görselleştiriyorum.\n",
        "\n",
        "sns.barplot(x=\"Adet_Sum\", y=\"Weekday\", data=EyapSatış)\n",
        "\n",
        "# Bu şekilde adet sayılarına bakınca mağazdaki adet satışları çok farklılık göstermiyorken\n",
        "#  net fiyatların bazı günlerde daha fazla olduğunu gözlemliyoruz."
      ],
      "execution_count": null,
      "outputs": [
        {
          "output_type": "execute_result",
          "data": {
            "text/plain": [
              "<matplotlib.axes._subplots.AxesSubplot at 0x7ff95b382410>"
            ]
          },
          "metadata": {},
          "execution_count": 46
        },
        {
          "output_type": "display_data",
          "data": {
            "image/png": "[encoded data removed]",
            "text/plain": [
              "<Figure size 432x288 with 1 Axes>"
            ]
          },
          "metadata": {
            "needs_background": "light"
          }
        }
      ]
    },
    {
      "cell_type": "code",
      "metadata": {
        "id": "07UQjH1kMGai"
      },
      "source": [
        ""
      ],
      "execution_count": null,
      "outputs": []
    },
    {
      "cell_type": "markdown",
      "metadata": {
        "id": "kEawYfn3JtZf"
      },
      "source": [
        "# Şimdi bu yetkili satıcıların en çok hangi ürünleri sattığına grafik yardımıyla bakalım."
      ]
    },
    {
      "cell_type": "code",
      "metadata": {
        "colab": {
          "base_uri": "https://localhost:8080/",
          "height": 297
        },
        "id": "qdBRV9iLJ3oY",
        "outputId": "3411e253-a4ab-4da7-e926-61030adf1741"
      },
      "source": [
        "sns.countplot(x=\"Yetkili Satıcı Kod\",hue='URUN',data=EyapSatış)\n",
        "# Yetkili satıcıların en çok sattıkları ürünler arasında farklılıklar var.\n",
        "# C ürünleri benzerlik gösterirken A ve B ürünleri farklılık göstermiş anon_s2 ve anon_s1 arasında."
      ],
      "execution_count": null,
      "outputs": [
        {
          "output_type": "execute_result",
          "data": {
            "text/plain": [
              "<matplotlib.axes._subplots.AxesSubplot at 0x7ff95b88e150>"
            ]
          },
          "metadata": {},
          "execution_count": 40
        },
        {
          "output_type": "display_data",
          "data": {
            "image/png": "[encoded data removed]",
            "text/plain": [
              "<Figure size 432x288 with 1 Axes>"
            ]
          },
          "metadata": {
            "needs_background": "light"
          }
        }
      ]
    },
    {
      "cell_type": "code",
      "metadata": {
        "colab": {
          "base_uri": "https://localhost:8080/",
          "height": 296
        },
        "id": "UKkn-8atv6vc",
        "outputId": "e458605e-c6be-43cd-d254-35d24028f1df"
      },
      "source": [
        "# Yıllara göre bu ürünlerin satış miktarlarına baktık.\n",
        "sns.countplot(x=\"URUN\", hue='year', data=EyapSatış)"
      ],
      "execution_count": null,
      "outputs": [
        {
          "output_type": "execute_result",
          "data": {
            "text/plain": [
              "<matplotlib.axes._subplots.AxesSubplot at 0x7ff95ba75e90>"
            ]
          },
          "metadata": {},
          "execution_count": 14
        },
        {
          "output_type": "display_data",
          "data": {
            "image/png": "[encoded data removed]",
            "text/plain": [
              "<Figure size 432x288 with 1 Axes>"
            ]
          },
          "metadata": {
            "needs_background": "light"
          }
        }
      ]
    },
    {
      "cell_type": "markdown",
      "metadata": {
        "id": "ZCzEn7W1KpTu"
      },
      "source": [
        "#### Yukarıdaki görselden hareketle C ürününün satışının yıllara göre farkı çok gözlemlenmemekte. Bunun dışında buradan 2018'den 2019'a gelirken satışların azaldığını ve 2020'de tekrar arttığını gözlemliyoruz."
      ]
    },
    {
      "cell_type": "markdown",
      "metadata": {
        "id": "SaB5t9Dbf2gB"
      },
      "source": [
        "# İade edilen veriler üzerindeki analizleri ve görselleştirmeler**"
      ]
    },
    {
      "cell_type": "markdown",
      "metadata": {
        "id": "JbP70ZmEkJnU"
      },
      "source": [
        "1290 tane verinin net fiyat sum değeri 0'dan küçük."
      ]
    },
    {
      "cell_type": "code",
      "metadata": {
        "colab": {
          "base_uri": "https://localhost:8080/"
        },
        "id": "K97s4837f8yW",
        "outputId": "ee6ef12e-2c52-4e6a-87ab-04da26a19e6a"
      },
      "source": [
        "df[df['Adet_Sum']<=0].count()"
      ],
      "execution_count": null,
      "outputs": [
        {
          "output_type": "execute_result",
          "data": {
            "text/plain": [
              "Yetkili Satıcı Kod    1297\n",
              "Müşteri Kod           1297\n",
              "MatbuNo               1297\n",
              "FaturaTarihi          1297\n",
              "Hiyerarşi 1           1297\n",
              "Hiyerarşi 2           1297\n",
              "Hiyerarşi 3           1297\n",
              "Net Fiyat_Sum         1297\n",
              "Adet_Sum              1297\n",
              "URUN                  1297\n",
              "Weekday               1297\n",
              "MonthName             1297\n",
              "year                  1297\n",
              "dtype: int64"
            ]
          },
          "metadata": {},
          "execution_count": 18
        }
      ]
    },
    {
      "cell_type": "markdown",
      "metadata": {
        "id": "DUznB18SkX84"
      },
      "source": [
        "Adet sum değerlerine baktığımız zaman 1297 tane verinin sıfırdan küçük olduğunu gözlemledik.\n",
        "* Burada dikkatimizi net fiyat sum değeri ile adet fiyat sum değeri arasındaki fark çekti. Eksili değerler iadeyi temsil ettiği halde bir uyuşmazlık vardı. 7 veriyi droplamaya karar verdik.\n",
        "* Ondan önce bu 7 verinin müşteri numaralarını gözlemlemeye karar verdik."
      ]
    },
    {
      "cell_type": "code",
      "metadata": {
        "colab": {
          "base_uri": "https://localhost:8080/",
          "height": 168
        },
        "id": "Miyf5fabk3E8",
        "outputId": "cee6bf46-1fc1-493d-808c-8ddc0ed0df46"
      },
      "source": [
        "# Adet sum değerinin sıfır olduğu müşteriyi gözlemledik.\n",
        "df[df['Adet_Sum']==0]"
      ],
      "execution_count": null,
      "outputs": [
        {
          "output_type": "execute_result",
          "data": {
            "text/html": [
              "<div>\n",
              "<style scoped>\n",
              "    .dataframe tbody tr th:only-of-type {\n",
              "        vertical-align: middle;\n",
              "    }\n",
              "\n",
              "    .dataframe tbody tr th {\n",
              "        vertical-align: top;\n",
              "    }\n",
              "\n",
              "    .dataframe thead th {\n",
              "        text-align: right;\n",
              "    }\n",
              "</style>\n",
              "<table border=\"1\" class=\"dataframe\">\n",
              "  <thead>\n",
              "    <tr style=\"text-align: right;\">\n",
              "      <th></th>\n",
              "      <th>Yetkili Satıcı Kod</th>\n",
              "      <th>Müşteri Kod</th>\n",
              "      <th>MatbuNo</th>\n",
              "      <th>FaturaTarihi</th>\n",
              "      <th>Hiyerarşi 1</th>\n",
              "      <th>Hiyerarşi 2</th>\n",
              "      <th>Hiyerarşi 3</th>\n",
              "      <th>Net Fiyat_Sum</th>\n",
              "      <th>Adet_Sum</th>\n",
              "      <th>URUN</th>\n",
              "      <th>Weekday</th>\n",
              "      <th>MonthName</th>\n",
              "      <th>year</th>\n",
              "    </tr>\n",
              "  </thead>\n",
              "  <tbody>\n",
              "    <tr>\n",
              "      <th>18101</th>\n",
              "      <td>anon_S1</td>\n",
              "      <td>120.01.G2039</td>\n",
              "      <td>GNY2019000005394</td>\n",
              "      <td>2019-11-11</td>\n",
              "      <td>SSG &amp; Tamamlayıcılar</td>\n",
              "      <td>Seramik Sağlık Gereçleri</td>\n",
              "      <td>Büyük Parçalar</td>\n",
              "      <td>234.0</td>\n",
              "      <td>0.0</td>\n",
              "      <td>B</td>\n",
              "      <td>Monday</td>\n",
              "      <td>November</td>\n",
              "      <td>2019</td>\n",
              "    </tr>\n",
              "  </tbody>\n",
              "</table>\n",
              "</div>"
            ],
            "text/plain": [
              "      Yetkili Satıcı Kod   Müşteri Kod  ... MonthName  year\n",
              "18101            anon_S1  120.01.G2039  ...  November  2019\n",
              "\n",
              "[1 rows x 13 columns]"
            ]
          },
          "metadata": {},
          "execution_count": 19
        }
      ]
    },
    {
      "cell_type": "code",
      "metadata": {
        "colab": {
          "base_uri": "https://localhost:8080/",
          "height": 312
        },
        "id": "BtJma6QelBuP",
        "outputId": "9921c646-96fb-4f1f-97ae-a121189894a3"
      },
      "source": [
        "# o müşterinin alımlarına baktık.\n",
        "df[df['Müşteri Kod']=='120.01.G2039']"
      ],
      "execution_count": null,
      "outputs": [
        {
          "output_type": "execute_result",
          "data": {
            "text/html": [
              "<div>\n",
              "<style scoped>\n",
              "    .dataframe tbody tr th:only-of-type {\n",
              "        vertical-align: middle;\n",
              "    }\n",
              "\n",
              "    .dataframe tbody tr th {\n",
              "        vertical-align: top;\n",
              "    }\n",
              "\n",
              "    .dataframe thead th {\n",
              "        text-align: right;\n",
              "    }\n",
              "</style>\n",
              "<table border=\"1\" class=\"dataframe\">\n",
              "  <thead>\n",
              "    <tr style=\"text-align: right;\">\n",
              "      <th></th>\n",
              "      <th>Yetkili Satıcı Kod</th>\n",
              "      <th>Müşteri Kod</th>\n",
              "      <th>MatbuNo</th>\n",
              "      <th>FaturaTarihi</th>\n",
              "      <th>Hiyerarşi 1</th>\n",
              "      <th>Hiyerarşi 2</th>\n",
              "      <th>Hiyerarşi 3</th>\n",
              "      <th>Net Fiyat_Sum</th>\n",
              "      <th>Adet_Sum</th>\n",
              "      <th>URUN</th>\n",
              "      <th>Weekday</th>\n",
              "      <th>MonthName</th>\n",
              "      <th>year</th>\n",
              "    </tr>\n",
              "  </thead>\n",
              "  <tbody>\n",
              "    <tr>\n",
              "      <th>17881</th>\n",
              "      <td>anon_S1</td>\n",
              "      <td>120.01.G2039</td>\n",
              "      <td>GNY2019000005394</td>\n",
              "      <td>2019-11-11</td>\n",
              "      <td>SSG &amp; Tamamlayıcılar</td>\n",
              "      <td>Seramik Sağlık Gereçleri</td>\n",
              "      <td>Büyük Parçalar</td>\n",
              "      <td>768.60</td>\n",
              "      <td>1.0</td>\n",
              "      <td>B</td>\n",
              "      <td>Monday</td>\n",
              "      <td>November</td>\n",
              "      <td>2019</td>\n",
              "    </tr>\n",
              "    <tr>\n",
              "      <th>18098</th>\n",
              "      <td>anon_S1</td>\n",
              "      <td>120.01.G2039</td>\n",
              "      <td>GNY2019000005423</td>\n",
              "      <td>2019-11-14</td>\n",
              "      <td>SSG &amp; Tamamlayıcılar</td>\n",
              "      <td>Seramik Sağlık Gereçleri</td>\n",
              "      <td>Büyük Parçalar</td>\n",
              "      <td>1307.16</td>\n",
              "      <td>1.0</td>\n",
              "      <td>B</td>\n",
              "      <td>Thursday</td>\n",
              "      <td>November</td>\n",
              "      <td>2019</td>\n",
              "    </tr>\n",
              "    <tr>\n",
              "      <th>18101</th>\n",
              "      <td>anon_S1</td>\n",
              "      <td>120.01.G2039</td>\n",
              "      <td>GNY2019000005394</td>\n",
              "      <td>2019-11-11</td>\n",
              "      <td>SSG &amp; Tamamlayıcılar</td>\n",
              "      <td>Seramik Sağlık Gereçleri</td>\n",
              "      <td>Büyük Parçalar</td>\n",
              "      <td>234.00</td>\n",
              "      <td>0.0</td>\n",
              "      <td>B</td>\n",
              "      <td>Monday</td>\n",
              "      <td>November</td>\n",
              "      <td>2019</td>\n",
              "    </tr>\n",
              "    <tr>\n",
              "      <th>24181</th>\n",
              "      <td>anon_S1</td>\n",
              "      <td>120.01.G2039</td>\n",
              "      <td>GNC2020000000045</td>\n",
              "      <td>2020-07-31</td>\n",
              "      <td>Armatür, Aksesuar &amp; Gömme Reze</td>\n",
              "      <td>Gömme/Plastik Rezervuar</td>\n",
              "      <td>Gömme Rezervuar</td>\n",
              "      <td>-65408.40</td>\n",
              "      <td>-24.0</td>\n",
              "      <td>C</td>\n",
              "      <td>Friday</td>\n",
              "      <td>July</td>\n",
              "      <td>2020</td>\n",
              "    </tr>\n",
              "  </tbody>\n",
              "</table>\n",
              "</div>"
            ],
            "text/plain": [
              "      Yetkili Satıcı Kod   Müşteri Kod  ... MonthName  year\n",
              "17881            anon_S1  120.01.G2039  ...  November  2019\n",
              "18098            anon_S1  120.01.G2039  ...  November  2019\n",
              "18101            anon_S1  120.01.G2039  ...  November  2019\n",
              "24181            anon_S1  120.01.G2039  ...      July  2020\n",
              "\n",
              "[4 rows x 13 columns]"
            ]
          },
          "metadata": {},
          "execution_count": 20
        }
      ]
    },
    {
      "cell_type": "code",
      "metadata": {
        "colab": {
          "base_uri": "https://localhost:8080/"
        },
        "id": "zrG8rbkflQXU",
        "outputId": "c01beeee-12c9-4b5f-e4da-1bcd42db692d"
      },
      "source": [
        "(df[df['Net Fiyat_Sum']<0]['Adet_Sum']>0).count()"
      ],
      "execution_count": null,
      "outputs": [
        {
          "output_type": "execute_result",
          "data": {
            "text/plain": [
              "1290"
            ]
          },
          "metadata": {},
          "execution_count": 21
        }
      ]
    },
    {
      "cell_type": "markdown",
      "metadata": {
        "id": "U4COMmBpmwvj"
      },
      "source": [
        "Net fiyat sum değerinin sıfırdan küçük olduğu 1290 veriyi iade ismiyle tutup oradaki verilere incelemeye karar verdik."
      ]
    },
    {
      "cell_type": "code",
      "metadata": {
        "id": "3r0pxMCZgpbI"
      },
      "source": [
        "Iade = df[df['Net Fiyat_Sum']<0]"
      ],
      "execution_count": null,
      "outputs": []
    },
    {
      "cell_type": "code",
      "metadata": {
        "colab": {
          "base_uri": "https://localhost:8080/"
        },
        "id": "X4cGg-ihgwaf",
        "outputId": "81f8338b-7e00-47b0-c4b4-df17a627ac99"
      },
      "source": [
        "Iade.info()"
      ],
      "execution_count": null,
      "outputs": [
        {
          "output_type": "stream",
          "name": "stdout",
          "text": [
            "<class 'pandas.core.frame.DataFrame'>\n",
            "Int64Index: 1290 entries, 33 to 30425\n",
            "Data columns (total 13 columns):\n",
            " #   Column              Non-Null Count  Dtype         \n",
            "---  ------              --------------  -----         \n",
            " 0   Yetkili Satıcı Kod  1290 non-null   object        \n",
            " 1   Müşteri Kod         1290 non-null   object        \n",
            " 2   MatbuNo             1290 non-null   object        \n",
            " 3   FaturaTarihi        1290 non-null   datetime64[ns]\n",
            " 4   Hiyerarşi 1         1290 non-null   object        \n",
            " 5   Hiyerarşi 2         1290 non-null   object        \n",
            " 6   Hiyerarşi 3         1290 non-null   object        \n",
            " 7   Net Fiyat_Sum       1290 non-null   float64       \n",
            " 8   Adet_Sum            1290 non-null   float64       \n",
            " 9   URUN                1290 non-null   object        \n",
            " 10  Weekday             1290 non-null   object        \n",
            " 11  MonthName           1290 non-null   object        \n",
            " 12  year                1290 non-null   int64         \n",
            "dtypes: datetime64[ns](1), float64(2), int64(1), object(9)\n",
            "memory usage: 141.1+ KB\n"
          ]
        }
      ]
    },
    {
      "cell_type": "markdown",
      "metadata": {
        "id": "tOmKClOehFe4"
      },
      "source": [
        "İade veri setimizde 1290 veri var."
      ]
    },
    {
      "cell_type": "code",
      "metadata": {
        "colab": {
          "base_uri": "https://localhost:8080/",
          "height": 142
        },
        "id": "mp7RE6uegu8a",
        "outputId": "4ed1e110-abb2-4f2d-efa6-da1a70ea1d6b"
      },
      "source": [
        "Iade.describe().T"
      ],
      "execution_count": null,
      "outputs": [
        {
          "output_type": "execute_result",
          "data": {
            "text/html": [
              "<div>\n",
              "<style scoped>\n",
              "    .dataframe tbody tr th:only-of-type {\n",
              "        vertical-align: middle;\n",
              "    }\n",
              "\n",
              "    .dataframe tbody tr th {\n",
              "        vertical-align: top;\n",
              "    }\n",
              "\n",
              "    .dataframe thead th {\n",
              "        text-align: right;\n",
              "    }\n",
              "</style>\n",
              "<table border=\"1\" class=\"dataframe\">\n",
              "  <thead>\n",
              "    <tr style=\"text-align: right;\">\n",
              "      <th></th>\n",
              "      <th>count</th>\n",
              "      <th>mean</th>\n",
              "      <th>std</th>\n",
              "      <th>min</th>\n",
              "      <th>25%</th>\n",
              "      <th>50%</th>\n",
              "      <th>75%</th>\n",
              "      <th>max</th>\n",
              "    </tr>\n",
              "  </thead>\n",
              "  <tbody>\n",
              "    <tr>\n",
              "      <th>Net Fiyat_Sum</th>\n",
              "      <td>1290.0</td>\n",
              "      <td>-3040.911176</td>\n",
              "      <td>4079.693636</td>\n",
              "      <td>-65408.4</td>\n",
              "      <td>-3750.0</td>\n",
              "      <td>-1866.15</td>\n",
              "      <td>-884.19</td>\n",
              "      <td>-6.0</td>\n",
              "    </tr>\n",
              "    <tr>\n",
              "      <th>Adet_Sum</th>\n",
              "      <td>1290.0</td>\n",
              "      <td>-1.501550</td>\n",
              "      <td>1.969216</td>\n",
              "      <td>-32.0</td>\n",
              "      <td>-1.0</td>\n",
              "      <td>-1.00</td>\n",
              "      <td>-1.00</td>\n",
              "      <td>-1.0</td>\n",
              "    </tr>\n",
              "    <tr>\n",
              "      <th>year</th>\n",
              "      <td>1290.0</td>\n",
              "      <td>2019.115504</td>\n",
              "      <td>0.824278</td>\n",
              "      <td>2018.0</td>\n",
              "      <td>2018.0</td>\n",
              "      <td>2019.00</td>\n",
              "      <td>2020.00</td>\n",
              "      <td>2020.0</td>\n",
              "    </tr>\n",
              "  </tbody>\n",
              "</table>\n",
              "</div>"
            ],
            "text/plain": [
              "                count         mean          std  ...      50%      75%     max\n",
              "Net Fiyat_Sum  1290.0 -3040.911176  4079.693636  ... -1866.15  -884.19    -6.0\n",
              "Adet_Sum       1290.0    -1.501550     1.969216  ...    -1.00    -1.00    -1.0\n",
              "year           1290.0  2019.115504     0.824278  ...  2019.00  2020.00  2020.0\n",
              "\n",
              "[3 rows x 8 columns]"
            ]
          },
          "metadata": {},
          "execution_count": 24
        }
      ]
    },
    {
      "cell_type": "code",
      "metadata": {
        "colab": {
          "base_uri": "https://localhost:8080/"
        },
        "id": "sufXdyM8SA-P",
        "outputId": "155b651e-a481-4178-87c2-217f35df6155"
      },
      "source": [
        "Iade['URUN'].value_counts()"
      ],
      "execution_count": null,
      "outputs": [
        {
          "output_type": "execute_result",
          "data": {
            "text/plain": [
              "B    638\n",
              "A    544\n",
              "C    108\n",
              "Name: URUN, dtype: int64"
            ]
          },
          "metadata": {},
          "execution_count": 52
        }
      ]
    },
    {
      "cell_type": "markdown",
      "metadata": {
        "id": "5KK4eVE8hgS7"
      },
      "source": [
        "Şimdi iade edilen verilerimiz üzerinden görselleştirmeler yapalım."
      ]
    },
    {
      "cell_type": "code",
      "metadata": {
        "colab": {
          "base_uri": "https://localhost:8080/",
          "height": 296
        },
        "id": "rNakqAvphT2P",
        "outputId": "96c60b2d-4653-47de-c3cd-ecb7bd18de29"
      },
      "source": [
        "# İade edilen verilerden en çok iade edilen ürünü bulalım.\n",
        "# En çok B ürünü en az C ürünü iade edilmiş.\n",
        "sns.countplot(x=\"URUN\", data=Iade)"
      ],
      "execution_count": null,
      "outputs": [
        {
          "output_type": "execute_result",
          "data": {
            "text/plain": [
              "<matplotlib.axes._subplots.AxesSubplot at 0x7ff95b8a8950>"
            ]
          },
          "metadata": {},
          "execution_count": 25
        },
        {
          "output_type": "display_data",
          "data": {
            "image/png": "[encoded data removed]",
            "text/plain": [
              "<Figure size 432x288 with 1 Axes>"
            ]
          },
          "metadata": {
            "needs_background": "light"
          }
        }
      ]
    },
    {
      "cell_type": "code",
      "metadata": {
        "colab": {
          "base_uri": "https://localhost:8080/",
          "height": 264
        },
        "id": "XglUiPZkhd_8",
        "outputId": "6dbef1a4-a7df-4753-a7c3-92bec8cf5b59"
      },
      "source": [
        "labels = 'Iade_A', 'Iade_B', 'Iade_C'\n",
        "sections = [543,638,108]\n",
        "colors = ['c', 'g', 'y']\n",
        "\n",
        "plt.pie(sections, labels=labels, colors=colors,\n",
        "        startangle=90,\n",
        "        explode = (0, 0.1, 0),\n",
        "        autopct = '%1.2f%%')\n",
        "\n",
        "plt.axis('equal') \n",
        "plt.title('Pie Chart ')\n",
        "plt.show()"
      ],
      "execution_count": null,
      "outputs": [
        {
          "output_type": "display_data",
          "data": {
            "image/png": "[encoded data removed]",
            "text/plain": [
              "<Figure size 432x288 with 1 Axes>"
            ]
          },
          "metadata": {}
        }
      ]
    },
    {
      "cell_type": "code",
      "metadata": {
        "colab": {
          "base_uri": "https://localhost:8080/",
          "height": 300
        },
        "id": "kcQTzSB_obo4",
        "outputId": "d322c3b1-a591-4637-ead2-171eb06205d1"
      },
      "source": [
        "# Iade edilen ürünlerin toplam fiyatlarının yıllara göre incelenmesi.\n",
        "sns.barplot(x=\"year\", y=\"Net Fiyat_Sum\", data=Iade, color=\"salmon\", saturation=.5)"
      ],
      "execution_count": null,
      "outputs": [
        {
          "output_type": "execute_result",
          "data": {
            "text/plain": [
              "<matplotlib.axes._subplots.AxesSubplot at 0x7ff95d046510>"
            ]
          },
          "metadata": {},
          "execution_count": 26
        },
        {
          "output_type": "display_data",
          "data": {
            "image/png": "[encoded data removed]",
            "text/plain": [
              "<Figure size 432x288 with 1 Axes>"
            ]
          },
          "metadata": {
            "needs_background": "light"
          }
        }
      ]
    },
    {
      "cell_type": "code",
      "metadata": {
        "colab": {
          "base_uri": "https://localhost:8080/",
          "height": 300
        },
        "id": "YmuWva8xhyom",
        "outputId": "3de12ae4-6560-4878-f1cb-da89b90cee8b"
      },
      "source": [
        "sns.barplot(x=\"year\", y=\"Net Fiyat_Sum\",hue='URUN', data=Iade,\n",
        "                 color=\"salmon\", saturation=.9)"
      ],
      "execution_count": null,
      "outputs": [
        {
          "output_type": "execute_result",
          "data": {
            "text/plain": [
              "<matplotlib.axes._subplots.AxesSubplot at 0x7ff956c85290>"
            ]
          },
          "metadata": {},
          "execution_count": 61
        },
        {
          "output_type": "display_data",
          "data": {
            "image/png": "[encoded data removed]",
            "text/plain": [
              "<Figure size 432x288 with 1 Axes>"
            ]
          },
          "metadata": {
            "needs_background": "light"
          }
        }
      ]
    },
    {
      "cell_type": "code",
      "metadata": {
        "colab": {
          "base_uri": "https://localhost:8080/",
          "height": 300
        },
        "id": "dsFgeW3Yoyjg",
        "outputId": "963ebbf4-a8db-4667-f3aa-c820f1c1fcdb"
      },
      "source": [
        "# En fazla iade miktarı 2020 yılında gerçekleşmiş.\n",
        "# Buradan adet değerlerine bakarak 2020'ye doğru iade edilen adet artmış mı diye inceleyelim.\n",
        "sns.barplot(x=\"year\", y=\"Adet_Sum\", data=Iade, color=\"salmon\", saturation=.5)"
      ],
      "execution_count": null,
      "outputs": [
        {
          "output_type": "execute_result",
          "data": {
            "text/plain": [
              "<matplotlib.axes._subplots.AxesSubplot at 0x7ff95b7fcf10>"
            ]
          },
          "metadata": {},
          "execution_count": 27
        },
        {
          "output_type": "display_data",
          "data": {
            "image/png": "[encoded data removed]",
            "text/plain": [
              "<Figure size 432x288 with 1 Axes>"
            ]
          },
          "metadata": {
            "needs_background": "light"
          }
        }
      ]
    },
    {
      "cell_type": "markdown",
      "metadata": {
        "id": "AGFgFygVpChh"
      },
      "source": [
        "2018 ve 2019 yılında adet değerleri yakınlık gösterirken net fiyat değerleri değişiklik göstermiş. 2020 yılında ise iade edilen adet sayısı artmış buna bağlı olarak da net fiyat tutarı da artmış."
      ]
    },
    {
      "cell_type": "code",
      "metadata": {
        "colab": {
          "base_uri": "https://localhost:8080/",
          "height": 297
        },
        "id": "qWrGTsgGiGh8",
        "outputId": "d65242d8-d214-4a50-b401-9db647c2920e"
      },
      "source": [
        "# Şimdi yetkili satıcılara bakalım.\n",
        "sns.countplot(x=\"Yetkili Satıcı Kod\", data=Iade)"
      ],
      "execution_count": null,
      "outputs": [
        {
          "output_type": "execute_result",
          "data": {
            "text/plain": [
              "<matplotlib.axes._subplots.AxesSubplot at 0x7ff95b771090>"
            ]
          },
          "metadata": {},
          "execution_count": 28
        },
        {
          "output_type": "display_data",
          "data": {
            "image/png": "[encoded data removed]",
            "text/plain": [
              "<Figure size 432x288 with 1 Axes>"
            ]
          },
          "metadata": {
            "needs_background": "light"
          }
        }
      ]
    },
    {
      "cell_type": "code",
      "metadata": {
        "colab": {
          "base_uri": "https://localhost:8080/",
          "height": 296
        },
        "id": "XU-gf-eppbY5",
        "outputId": "88bb5f3f-0293-4acc-8530-43a21370bd8b"
      },
      "source": [
        "sns.countplot(x=\"year\", hue=\"URUN\", data=Iade)\n",
        "# Bu grafikten yıllara göre iade edilen B ürünü miktarının arttığını gözlemliyoruz.\n",
        "# C ürünün iade sayıları yıllara göre sabit kalmış gibi."
      ],
      "execution_count": null,
      "outputs": [
        {
          "output_type": "execute_result",
          "data": {
            "text/plain": [
              "<matplotlib.axes._subplots.AxesSubplot at 0x7ff95b74df10>"
            ]
          },
          "metadata": {},
          "execution_count": 29
        },
        {
          "output_type": "display_data",
          "data": {
            "image/png": "[encoded data removed]",
            "text/plain": [
              "<Figure size 432x288 with 1 Axes>"
            ]
          },
          "metadata": {
            "needs_background": "light"
          }
        }
      ]
    },
    {
      "cell_type": "code",
      "metadata": {
        "colab": {
          "base_uri": "https://localhost:8080/",
          "height": 426
        },
        "id": "aJbgUA2niMnr",
        "outputId": "36fdbce9-a531-44ec-edd2-1bb2fdce7dbc"
      },
      "source": [
        "# Aylara göre yapılan iadelerin net fiyat tutarını inceleyelim\n",
        "import seaborn as sns \n",
        "g = sns.catplot(data=Iade, x='MonthName', y='Net Fiyat_Sum')\n",
        "g.fig.set_figwidth(13.27)\n",
        "g.fig.set_figheight(5.7)\n",
        "\n",
        "# buradan iadeler üzerine net fiyat toplamının şubat ayında diğer aylara görece daha az olduğunu gördüm."
      ],
      "execution_count": null,
      "outputs": [
        {
          "output_type": "display_data",
          "data": {
            "image/png": "[encoded data removed]",
            "text/plain": [
              "<Figure size 955.44x410.4 with 1 Axes>"
            ]
          },
          "metadata": {}
        }
      ]
    },
    {
      "cell_type": "code",
      "metadata": {
        "colab": {
          "base_uri": "https://localhost:8080/",
          "height": 538
        },
        "id": "37fpSg5JmRt7",
        "outputId": "bb786b19-5954-48b0-c8b8-145db5c4681f"
      },
      "source": [
        "sns.barplot(x=\"MonthName\", y=\"Net Fiyat_Sum\", data=Iade)"
      ],
      "execution_count": null,
      "outputs": [
        {
          "output_type": "execute_result",
          "data": {
            "text/plain": [
              "<matplotlib.axes._subplots.AxesSubplot at 0x7ff94e283ed0>"
            ]
          },
          "metadata": {},
          "execution_count": 91
        },
        {
          "output_type": "display_data",
          "data": {
            "image/png": "[encoded data removed]",
            "text/plain": [
              "<Figure size 842.4x595.44 with 1 Axes>"
            ]
          },
          "metadata": {}
        }
      ]
    },
    {
      "cell_type": "markdown",
      "metadata": {
        "id": "IsfA9_kzn-Rz"
      },
      "source": [
        "Yukarıda aylara göre iade miktarlarını görselleştirince yıllara göre nasıl olduğunu merak ettim. \n",
        "* Hep temmuz ayında iade miktarı fazla diye görebilmek için."
      ]
    },
    {
      "cell_type": "code",
      "metadata": {
        "colab": {
          "base_uri": "https://localhost:8080/",
          "height": 538
        },
        "id": "By4NYXJDoLcg",
        "outputId": "5f2865bd-3f0f-446c-8bf4-32f6a67a2914"
      },
      "source": [
        "sns.barplot(x=\"MonthName\", y=\"Net Fiyat_Sum\", hue='year', data=Iade)"
      ],
      "execution_count": null,
      "outputs": [
        {
          "output_type": "execute_result",
          "data": {
            "text/plain": [
              "<matplotlib.axes._subplots.AxesSubplot at 0x7ff94def95d0>"
            ]
          },
          "metadata": {},
          "execution_count": 92
        },
        {
          "output_type": "display_data",
          "data": {
            "image/png": "[encoded data removed]",
            "text/plain": [
              "<Figure size 842.4x595.44 with 1 Axes>"
            ]
          },
          "metadata": {}
        }
      ]
    },
    {
      "cell_type": "code",
      "metadata": {
        "colab": {
          "base_uri": "https://localhost:8080/"
        },
        "id": "cn06Nd2QRFPT",
        "outputId": "c32c98ae-4f24-44bc-97ca-8f12b75e2638"
      },
      "source": [
        "Iade['Yetkili Satıcı Kod'].value_counts()"
      ],
      "execution_count": null,
      "outputs": [
        {
          "output_type": "execute_result",
          "data": {
            "text/plain": [
              "anon_S2    536\n",
              "anon_S0    400\n",
              "anon_S1    354\n",
              "Name: Yetkili Satıcı Kod, dtype: int64"
            ]
          },
          "metadata": {},
          "execution_count": 51
        }
      ]
    },
    {
      "cell_type": "markdown",
      "metadata": {
        "id": "TqHkBbrWrJyv"
      },
      "source": [
        "Şimdi teker teker iade edilen A, B ve C ürünlerinin bilgilerine göz atalım."
      ]
    },
    {
      "cell_type": "code",
      "metadata": {
        "colab": {
          "base_uri": "https://localhost:8080/"
        },
        "id": "ZH68NUh9qgqQ",
        "outputId": "3f6684b2-a29b-4458-9195-e1d03e9c3553"
      },
      "source": [
        "Iade[Iade['URUN']=='A'].value_counts()"
      ],
      "execution_count": null,
      "outputs": [
        {
          "output_type": "execute_result",
          "data": {
            "text/plain": [
              "Yetkili Satıcı Kod  Müşteri Kod     MatbuNo           FaturaTarihi  Hiyerarşi 1                     Hiyerarşi 2  Hiyerarşi 3  Net Fiyat_Sum  Adet_Sum  URUN  Weekday    MonthName  year\n",
              "anon_S2             120.SB.ISP0495  I091472           2019-04-09    Armatür, Aksesuar & Gömme Reze  Armatürler   Armatür      -241.20        -1.0      A     Tuesday    April      2019    2\n",
              "anon_S1             120.01.A5547    GIB2020000000028  2020-10-16    Armatür, Aksesuar & Gömme Reze  Armatürler   Armatür      -12630.00      -1.0      A     Friday     October    2020    1\n",
              "                    120.01.B1224    151709            2020-06-05    Armatür, Aksesuar & Gömme Reze  Armatürler   Armatür      -2205.36       -1.0      A     Friday     June       2020    1\n",
              "                    120.01.A5725    151894            2020-11-05    Armatür, Aksesuar & Gömme Reze  Armatürler   Armatür      -2752.50       -1.0      A     Thursday   November   2020    1\n",
              "                    120.01.A5656    151648            2020-11-09    Armatür, Aksesuar & Gömme Reze  Armatürler   Armatür      -983.16        -1.0      A     Monday     November   2020    1\n",
              "                                                                                                                                                                                          ..\n",
              "anon_S2             120.PS.11       I00000209         2018-06-09    Armatür, Aksesuar & Gömme Reze  Armatürler   Armatür      -310.08        -1.0      A     Saturday   June       2018    1\n",
              "                                    I00000215         2018-06-12    Armatür, Aksesuar & Gömme Reze  Armatürler   Armatür      -350.76        -1.0      A     Tuesday    June       2018    1\n",
              "                                    I00000223         2018-06-14    Armatür, Aksesuar & Gömme Reze  Armatürler   Armatür      -289.74        -1.0      A     Thursday   June       2018    1\n",
              "                                    I00000300         2019-01-23    Armatür, Aksesuar & Gömme Reze  Armatürler   Armatür      -630.42        -1.0      A     Wednesday  January    2019    1\n",
              "anon_S0             120.02.835      BC12019000000462  2019-11-15    Armatür, Aksesuar & Gömme Reze  Armatürler   Armatür      -5983.20       -1.0      A     Friday     November   2019    1\n",
              "Length: 543, dtype: int64"
            ]
          },
          "metadata": {},
          "execution_count": 30
        }
      ]
    },
    {
      "cell_type": "code",
      "metadata": {
        "colab": {
          "base_uri": "https://localhost:8080/"
        },
        "id": "r2flACnzrUo2",
        "outputId": "a6d2967d-9955-4c85-9839-cbbbf0fc90a8"
      },
      "source": [
        "Iade[Iade['URUN']=='B'].value_counts()"
      ],
      "execution_count": null,
      "outputs": [
        {
          "output_type": "execute_result",
          "data": {
            "text/plain": [
              "Yetkili Satıcı Kod  Müşteri Kod     MatbuNo           FaturaTarihi  Hiyerarşi 1           Hiyerarşi 2               Hiyerarşi 3     Net Fiyat_Sum  Adet_Sum  URUN  Weekday    MonthName  year\n",
              "anon_S2             320.01.0436     IGR-00001001      2020-04-09    SSG & Tamamlayıcılar  Seramik Sağlık Gereçleri  Büyük Parçalar  -4866.000      -1.0      B     Thursday   April      2020    1\n",
              "anon_S1             120.01.B2495    BYK2019000000529  2019-08-05    SSG & Tamamlayıcılar  Seramik Sağlık Gereçleri  Büyük Parçalar  -7864.200      -1.0      B     Monday     August     2019    1\n",
              "                    120.01.C1111    151531            2019-08-21    SSG & Tamamlayıcılar  Seramik Sağlık Gereçleri  Büyük Parçalar  -3583.440      -1.0      B     Wednesday  August     2019    1\n",
              "                    120.01.B2625    151641            2020-09-28    SSG & Tamamlayıcılar  Seramik Sağlık Gereçleri  Büyük Parçalar  -2376.300      -1.0      B     Monday     September  2020    1\n",
              "                                                                                                                                    -4461.000      -1.0      B     Monday     September  2020    1\n",
              "                                                                                                                                                                                                ..\n",
              "anon_S2             120.09.KMR2071  I255296-297       2019-12-31    SSG & Tamamlayıcılar  Seramik Sağlık Gereçleri  Büyük Parçalar  -1353.600      -3.0      B     Tuesday    December   2019    1\n",
              "                                                                                                                                    -2142.000      -3.0      B     Tuesday    December   2019    1\n",
              "                                    255061            2018-12-31    SSG & Tamamlayıcılar  Seramik Sağlık Gereçleri  Büyük Parçalar  -856.800       -1.0      B     Monday     December   2018    1\n",
              "                                                                                                                                    -1854.000      -1.0      B     Monday     December   2018    1\n",
              "anon_S0             120.01.1012     001003            2019-09-02    SSG & Tamamlayıcılar  Seramik Sağlık Gereçleri  Büyük Parçalar  -2792.565      -1.0      B     Monday     September  2019    1\n",
              "Length: 638, dtype: int64"
            ]
          },
          "metadata": {},
          "execution_count": 31
        }
      ]
    },
    {
      "cell_type": "code",
      "metadata": {
        "colab": {
          "base_uri": "https://localhost:8080/"
        },
        "id": "I1UrmMByrePj",
        "outputId": "1f7d42fd-5d3c-4ab3-9cc6-f44904223f19"
      },
      "source": [
        "Iade[Iade['URUN']=='C'].value_counts()"
      ],
      "execution_count": null,
      "outputs": [
        {
          "output_type": "execute_result",
          "data": {
            "text/plain": [
              "Yetkili Satıcı Kod  Müşteri Kod      MatbuNo           FaturaTarihi  Hiyerarşi 1                     Hiyerarşi 2              Hiyerarşi 3      Net Fiyat_Sum  Adet_Sum  URUN  Weekday    MonthName  year\n",
              "anon_S2             120.SB.LARA0595  I024735           2019-06-21    Armatür, Aksesuar & Gömme Reze  Gömme/Plastik Rezervuar  Gömme Rezervuar  -1266.000      -1.0      C     Friday     June       2019    1\n",
              "anon_S0             120.50.408       000559            2018-01-22    Armatür, Aksesuar & Gömme Reze  Gömme/Plastik Rezervuar  Gömme Rezervuar  -3045.204      -2.0      C     Monday     January    2018    1\n",
              "                    120.14.547       NAP2020000000038  2020-03-02    Armatür, Aksesuar & Gömme Reze  Gömme/Plastik Rezervuar  Gömme Rezervuar  -4194.000      -3.0      C     Monday     March      2020    1\n",
              "                    120.15.748       OLG2020000000078  2020-08-14    Armatür, Aksesuar & Gömme Reze  Gömme/Plastik Rezervuar  Gömme Rezervuar  -2169.000      -1.0      C     Friday     August     2020    1\n",
              "                    120.16.238       030271            2018-05-16    Armatür, Aksesuar & Gömme Reze  Gömme/Plastik Rezervuar  Gömme Rezervuar  -3073.200      -2.0      C     Wednesday  May        2018    1\n",
              "                                                                                                                                                                                                           ..\n",
              "anon_S1             120.01.T0917     GUN2019000000804  2019-11-20    Armatür, Aksesuar & Gömme Reze  Gömme/Plastik Rezervuar  Gömme Rezervuar  -2169.000      -1.0      C     Wednesday  November   2019    1\n",
              "                    120.01.V0480     151207            2018-08-30    Armatür, Aksesuar & Gömme Reze  Gömme/Plastik Rezervuar  Gömme Rezervuar  -1206.000      -1.0      C     Thursday   August     2018    1\n",
              "                    120.01.Y1561     151198            2019-05-25    Armatür, Aksesuar & Gömme Reze  Gömme/Plastik Rezervuar  Gömme Rezervuar  -8197.500      -13.0     C     Saturday   May        2019    1\n",
              "anon_S2             120.02.ANT0784   AHM2018000000020  2018-04-11    Armatür, Aksesuar & Gömme Reze  Gömme/Plastik Rezervuar  Gömme Rezervuar  -26454.000     -16.0     C     Wednesday  April      2018    1\n",
              "anon_S0             120.01.1019      006062            2019-04-17    Armatür, Aksesuar & Gömme Reze  Gömme/Plastik Rezervuar  Gömme Rezervuar  -1724.400      -1.0      C     Wednesday  April      2019    1\n",
              "Length: 108, dtype: int64"
            ]
          },
          "metadata": {},
          "execution_count": 32
        }
      ]
    },
    {
      "cell_type": "code",
      "metadata": {
        "colab": {
          "base_uri": "https://localhost:8080/"
        },
        "id": "zq7EM9KcriOt",
        "outputId": "2b4534fe-8b6a-488d-ba3d-b918d37d9d99"
      },
      "source": [
        "Iade['Müşteri Kod'].value_counts()"
      ],
      "execution_count": null,
      "outputs": [
        {
          "output_type": "execute_result",
          "data": {
            "text/plain": [
              "120.05.183        54\n",
              "120.PS.11         29\n",
              "120.PŞ.16         14\n",
              "120.01.S4747      13\n",
              "120.14.519        12\n",
              "                  ..\n",
              "120.50.943         1\n",
              "120.SB.ISP2519     1\n",
              "120.11.430         1\n",
              "120.02.ANT1106     1\n",
              "120.14.518         1\n",
              "Name: Müşteri Kod, Length: 732, dtype: int64"
            ]
          },
          "metadata": {},
          "execution_count": 33
        }
      ]
    },
    {
      "cell_type": "code",
      "metadata": {
        "colab": {
          "base_uri": "https://localhost:8080/",
          "height": 1000
        },
        "id": "rp_vmK2qr-nV",
        "outputId": "1628d44d-ce52-415b-cce3-b687e840a093"
      },
      "source": [
        "# Burada çok fazla iade eden müşterilere bakmak istedim.\n",
        "Iade[Iade['Müşteri Kod']=='120.05.183']"
      ],
      "execution_count": null,
      "outputs": [
        {
          "output_type": "execute_result",
          "data": {
            "text/html": [
              "<div>\n",
              "<style scoped>\n",
              "    .dataframe tbody tr th:only-of-type {\n",
              "        vertical-align: middle;\n",
              "    }\n",
              "\n",
              "    .dataframe tbody tr th {\n",
              "        vertical-align: top;\n",
              "    }\n",
              "\n",
              "    .dataframe thead th {\n",
              "        text-align: right;\n",
              "    }\n",
              "</style>\n",
              "<table border=\"1\" class=\"dataframe\">\n",
              "  <thead>\n",
              "    <tr style=\"text-align: right;\">\n",
              "      <th></th>\n",
              "      <th>Yetkili Satıcı Kod</th>\n",
              "      <th>Müşteri Kod</th>\n",
              "      <th>MatbuNo</th>\n",
              "      <th>FaturaTarihi</th>\n",
              "      <th>Hiyerarşi 1</th>\n",
              "      <th>Hiyerarşi 2</th>\n",
              "      <th>Hiyerarşi 3</th>\n",
              "      <th>Net Fiyat_Sum</th>\n",
              "      <th>Adet_Sum</th>\n",
              "      <th>URUN</th>\n",
              "      <th>Weekday</th>\n",
              "      <th>MonthName</th>\n",
              "      <th>year</th>\n",
              "    </tr>\n",
              "  </thead>\n",
              "  <tbody>\n",
              "    <tr>\n",
              "      <th>907</th>\n",
              "      <td>anon_S0</td>\n",
              "      <td>120.05.183</td>\n",
              "      <td>EMD2018000000026</td>\n",
              "      <td>2018-02-03</td>\n",
              "      <td>Armatür, Aksesuar &amp; Gömme Reze</td>\n",
              "      <td>Armatürler</td>\n",
              "      <td>Armatür</td>\n",
              "      <td>-73.80000</td>\n",
              "      <td>-1.0</td>\n",
              "      <td>A</td>\n",
              "      <td>Saturday</td>\n",
              "      <td>February</td>\n",
              "      <td>2018</td>\n",
              "    </tr>\n",
              "    <tr>\n",
              "      <th>1310</th>\n",
              "      <td>anon_S0</td>\n",
              "      <td>120.05.183</td>\n",
              "      <td>EMD2018000000028</td>\n",
              "      <td>2018-02-05</td>\n",
              "      <td>SSG &amp; Tamamlayıcılar</td>\n",
              "      <td>Seramik Sağlık Gereçleri</td>\n",
              "      <td>Büyük Parçalar</td>\n",
              "      <td>-369.96966</td>\n",
              "      <td>-1.0</td>\n",
              "      <td>B</td>\n",
              "      <td>Monday</td>\n",
              "      <td>February</td>\n",
              "      <td>2018</td>\n",
              "    </tr>\n",
              "    <tr>\n",
              "      <th>1369</th>\n",
              "      <td>anon_S0</td>\n",
              "      <td>120.05.183</td>\n",
              "      <td>EMD2018000000027</td>\n",
              "      <td>2018-02-03</td>\n",
              "      <td>SSG &amp; Tamamlayıcılar</td>\n",
              "      <td>Seramik Sağlık Gereçleri</td>\n",
              "      <td>Büyük Parçalar</td>\n",
              "      <td>-3217.14000</td>\n",
              "      <td>-1.0</td>\n",
              "      <td>B</td>\n",
              "      <td>Saturday</td>\n",
              "      <td>February</td>\n",
              "      <td>2018</td>\n",
              "    </tr>\n",
              "    <tr>\n",
              "      <th>1619</th>\n",
              "      <td>anon_S0</td>\n",
              "      <td>120.05.183</td>\n",
              "      <td>EMD2018000000094</td>\n",
              "      <td>2018-03-26</td>\n",
              "      <td>Armatür, Aksesuar &amp; Gömme Reze</td>\n",
              "      <td>Armatürler</td>\n",
              "      <td>Armatür</td>\n",
              "      <td>-1170.59760</td>\n",
              "      <td>-1.0</td>\n",
              "      <td>A</td>\n",
              "      <td>Monday</td>\n",
              "      <td>March</td>\n",
              "      <td>2018</td>\n",
              "    </tr>\n",
              "    <tr>\n",
              "      <th>3335</th>\n",
              "      <td>anon_S0</td>\n",
              "      <td>120.05.183</td>\n",
              "      <td>EMD2018000000124</td>\n",
              "      <td>2018-04-20</td>\n",
              "      <td>SSG &amp; Tamamlayıcılar</td>\n",
              "      <td>Seramik Sağlık Gereçleri</td>\n",
              "      <td>Büyük Parçalar</td>\n",
              "      <td>-513.27360</td>\n",
              "      <td>-1.0</td>\n",
              "      <td>B</td>\n",
              "      <td>Friday</td>\n",
              "      <td>April</td>\n",
              "      <td>2018</td>\n",
              "    </tr>\n",
              "    <tr>\n",
              "      <th>6500</th>\n",
              "      <td>anon_S0</td>\n",
              "      <td>120.05.183</td>\n",
              "      <td>EMD2018000000257</td>\n",
              "      <td>2018-08-09</td>\n",
              "      <td>Armatür, Aksesuar &amp; Gömme Reze</td>\n",
              "      <td>Armatürler</td>\n",
              "      <td>Armatür</td>\n",
              "      <td>-4197.74760</td>\n",
              "      <td>-1.0</td>\n",
              "      <td>A</td>\n",
              "      <td>Thursday</td>\n",
              "      <td>August</td>\n",
              "      <td>2018</td>\n",
              "    </tr>\n",
              "    <tr>\n",
              "      <th>6619</th>\n",
              "      <td>anon_S0</td>\n",
              "      <td>120.05.183</td>\n",
              "      <td>EMD2018000000281</td>\n",
              "      <td>2018-08-18</td>\n",
              "      <td>SSG &amp; Tamamlayıcılar</td>\n",
              "      <td>Seramik Sağlık Gereçleri</td>\n",
              "      <td>Büyük Parçalar</td>\n",
              "      <td>-188.07120</td>\n",
              "      <td>-1.0</td>\n",
              "      <td>B</td>\n",
              "      <td>Saturday</td>\n",
              "      <td>August</td>\n",
              "      <td>2018</td>\n",
              "    </tr>\n",
              "    <tr>\n",
              "      <th>6914</th>\n",
              "      <td>anon_S0</td>\n",
              "      <td>120.05.183</td>\n",
              "      <td>EMD2018000000277</td>\n",
              "      <td>2018-08-14</td>\n",
              "      <td>SSG &amp; Tamamlayıcılar</td>\n",
              "      <td>Seramik Sağlık Gereçleri</td>\n",
              "      <td>Büyük Parçalar</td>\n",
              "      <td>-513.27360</td>\n",
              "      <td>-1.0</td>\n",
              "      <td>B</td>\n",
              "      <td>Tuesday</td>\n",
              "      <td>August</td>\n",
              "      <td>2018</td>\n",
              "    </tr>\n",
              "    <tr>\n",
              "      <th>6915</th>\n",
              "      <td>anon_S0</td>\n",
              "      <td>120.05.183</td>\n",
              "      <td>EMD2018000000278</td>\n",
              "      <td>2018-08-16</td>\n",
              "      <td>SSG &amp; Tamamlayıcılar</td>\n",
              "      <td>Seramik Sağlık Gereçleri</td>\n",
              "      <td>Büyük Parçalar</td>\n",
              "      <td>-513.27360</td>\n",
              "      <td>-1.0</td>\n",
              "      <td>B</td>\n",
              "      <td>Thursday</td>\n",
              "      <td>August</td>\n",
              "      <td>2018</td>\n",
              "    </tr>\n",
              "    <tr>\n",
              "      <th>8116</th>\n",
              "      <td>anon_S0</td>\n",
              "      <td>120.05.183</td>\n",
              "      <td>EMD2018000000405</td>\n",
              "      <td>2018-10-30</td>\n",
              "      <td>Armatür, Aksesuar &amp; Gömme Reze</td>\n",
              "      <td>Armatürler</td>\n",
              "      <td>Armatür</td>\n",
              "      <td>-523.20600</td>\n",
              "      <td>-1.0</td>\n",
              "      <td>A</td>\n",
              "      <td>Tuesday</td>\n",
              "      <td>October</td>\n",
              "      <td>2018</td>\n",
              "    </tr>\n",
              "    <tr>\n",
              "      <th>8313</th>\n",
              "      <td>anon_S0</td>\n",
              "      <td>120.05.183</td>\n",
              "      <td>EMD2018000000374</td>\n",
              "      <td>2018-10-12</td>\n",
              "      <td>SSG &amp; Tamamlayıcılar</td>\n",
              "      <td>Seramik Sağlık Gereçleri</td>\n",
              "      <td>Büyük Parçalar</td>\n",
              "      <td>-237.39840</td>\n",
              "      <td>-1.0</td>\n",
              "      <td>B</td>\n",
              "      <td>Friday</td>\n",
              "      <td>October</td>\n",
              "      <td>2018</td>\n",
              "    </tr>\n",
              "    <tr>\n",
              "      <th>8499</th>\n",
              "      <td>anon_S0</td>\n",
              "      <td>120.05.183</td>\n",
              "      <td>EMD2018000000409</td>\n",
              "      <td>2018-10-31</td>\n",
              "      <td>SSG &amp; Tamamlayıcılar</td>\n",
              "      <td>Seramik Sağlık Gereçleri</td>\n",
              "      <td>Büyük Parçalar</td>\n",
              "      <td>-528.67440</td>\n",
              "      <td>-1.0</td>\n",
              "      <td>B</td>\n",
              "      <td>Wednesday</td>\n",
              "      <td>October</td>\n",
              "      <td>2018</td>\n",
              "    </tr>\n",
              "    <tr>\n",
              "      <th>8557</th>\n",
              "      <td>anon_S0</td>\n",
              "      <td>120.05.183</td>\n",
              "      <td>EMD2018000000375</td>\n",
              "      <td>2018-10-14</td>\n",
              "      <td>SSG &amp; Tamamlayıcılar</td>\n",
              "      <td>Seramik Sağlık Gereçleri</td>\n",
              "      <td>Büyük Parçalar</td>\n",
              "      <td>-513.27360</td>\n",
              "      <td>-1.0</td>\n",
              "      <td>B</td>\n",
              "      <td>Sunday</td>\n",
              "      <td>October</td>\n",
              "      <td>2018</td>\n",
              "    </tr>\n",
              "    <tr>\n",
              "      <th>8580</th>\n",
              "      <td>anon_S0</td>\n",
              "      <td>120.05.183</td>\n",
              "      <td>EMD2018000000374</td>\n",
              "      <td>2018-10-12</td>\n",
              "      <td>SSG &amp; Tamamlayıcılar</td>\n",
              "      <td>Seramik Sağlık Gereçleri</td>\n",
              "      <td>Büyük Parçalar</td>\n",
              "      <td>-79.37280</td>\n",
              "      <td>-1.0</td>\n",
              "      <td>B</td>\n",
              "      <td>Friday</td>\n",
              "      <td>October</td>\n",
              "      <td>2018</td>\n",
              "    </tr>\n",
              "    <tr>\n",
              "      <th>8677</th>\n",
              "      <td>anon_S0</td>\n",
              "      <td>120.05.183</td>\n",
              "      <td>EMD2018000000438</td>\n",
              "      <td>2018-11-28</td>\n",
              "      <td>Armatür, Aksesuar &amp; Gömme Reze</td>\n",
              "      <td>Armatürler</td>\n",
              "      <td>Armatür</td>\n",
              "      <td>-908.50500</td>\n",
              "      <td>-1.0</td>\n",
              "      <td>A</td>\n",
              "      <td>Wednesday</td>\n",
              "      <td>November</td>\n",
              "      <td>2018</td>\n",
              "    </tr>\n",
              "    <tr>\n",
              "      <th>9592</th>\n",
              "      <td>anon_S0</td>\n",
              "      <td>120.05.183</td>\n",
              "      <td>EMD2018000000447</td>\n",
              "      <td>2018-12-20</td>\n",
              "      <td>Armatür, Aksesuar &amp; Gömme Reze</td>\n",
              "      <td>Armatürler</td>\n",
              "      <td>Armatür</td>\n",
              "      <td>-744.00000</td>\n",
              "      <td>-1.0</td>\n",
              "      <td>A</td>\n",
              "      <td>Thursday</td>\n",
              "      <td>December</td>\n",
              "      <td>2018</td>\n",
              "    </tr>\n",
              "    <tr>\n",
              "      <th>9634</th>\n",
              "      <td>anon_S0</td>\n",
              "      <td>120.05.183</td>\n",
              "      <td>EMD2018000000448</td>\n",
              "      <td>2018-12-22</td>\n",
              "      <td>Armatür, Aksesuar &amp; Gömme Reze</td>\n",
              "      <td>Armatürler</td>\n",
              "      <td>Armatür</td>\n",
              "      <td>-2983.65120</td>\n",
              "      <td>-1.0</td>\n",
              "      <td>A</td>\n",
              "      <td>Saturday</td>\n",
              "      <td>December</td>\n",
              "      <td>2018</td>\n",
              "    </tr>\n",
              "    <tr>\n",
              "      <th>10563</th>\n",
              "      <td>anon_S0</td>\n",
              "      <td>120.05.183</td>\n",
              "      <td>EMD2019000000010</td>\n",
              "      <td>2019-01-21</td>\n",
              "      <td>Armatür, Aksesuar &amp; Gömme Reze</td>\n",
              "      <td>Gömme/Plastik Rezervuar</td>\n",
              "      <td>Gömme Rezervuar</td>\n",
              "      <td>-516.00000</td>\n",
              "      <td>-1.0</td>\n",
              "      <td>C</td>\n",
              "      <td>Monday</td>\n",
              "      <td>January</td>\n",
              "      <td>2019</td>\n",
              "    </tr>\n",
              "    <tr>\n",
              "      <th>10812</th>\n",
              "      <td>anon_S0</td>\n",
              "      <td>120.05.183</td>\n",
              "      <td>EMD2019000000011</td>\n",
              "      <td>2019-01-21</td>\n",
              "      <td>SSG &amp; Tamamlayıcılar</td>\n",
              "      <td>Seramik Sağlık Gereçleri</td>\n",
              "      <td>Büyük Parçalar</td>\n",
              "      <td>-1116.00000</td>\n",
              "      <td>-2.0</td>\n",
              "      <td>B</td>\n",
              "      <td>Monday</td>\n",
              "      <td>January</td>\n",
              "      <td>2019</td>\n",
              "    </tr>\n",
              "    <tr>\n",
              "      <th>12238</th>\n",
              "      <td>anon_S0</td>\n",
              "      <td>120.05.183</td>\n",
              "      <td>EMD2019000000054</td>\n",
              "      <td>2019-04-18</td>\n",
              "      <td>Armatür, Aksesuar &amp; Gömme Reze</td>\n",
              "      <td>Armatürler</td>\n",
              "      <td>Armatür</td>\n",
              "      <td>-1791.26100</td>\n",
              "      <td>-1.0</td>\n",
              "      <td>A</td>\n",
              "      <td>Thursday</td>\n",
              "      <td>April</td>\n",
              "      <td>2019</td>\n",
              "    </tr>\n",
              "    <tr>\n",
              "      <th>12783</th>\n",
              "      <td>anon_S0</td>\n",
              "      <td>120.05.183</td>\n",
              "      <td>EMD2019000000077</td>\n",
              "      <td>2019-05-30</td>\n",
              "      <td>Armatür, Aksesuar &amp; Gömme Reze</td>\n",
              "      <td>Armatürler</td>\n",
              "      <td>Armatür</td>\n",
              "      <td>-162.00000</td>\n",
              "      <td>-1.0</td>\n",
              "      <td>A</td>\n",
              "      <td>Thursday</td>\n",
              "      <td>May</td>\n",
              "      <td>2019</td>\n",
              "    </tr>\n",
              "    <tr>\n",
              "      <th>13386</th>\n",
              "      <td>anon_S0</td>\n",
              "      <td>120.05.183</td>\n",
              "      <td>EMD2019000000084</td>\n",
              "      <td>2019-05-31</td>\n",
              "      <td>SSG &amp; Tamamlayıcılar</td>\n",
              "      <td>Seramik Sağlık Gereçleri</td>\n",
              "      <td>Büyük Parçalar</td>\n",
              "      <td>-15.06000</td>\n",
              "      <td>-1.0</td>\n",
              "      <td>B</td>\n",
              "      <td>Friday</td>\n",
              "      <td>May</td>\n",
              "      <td>2019</td>\n",
              "    </tr>\n",
              "    <tr>\n",
              "      <th>13461</th>\n",
              "      <td>anon_S0</td>\n",
              "      <td>120.05.183</td>\n",
              "      <td>EMD2019000000083</td>\n",
              "      <td>2019-05-31</td>\n",
              "      <td>SSG &amp; Tamamlayıcılar</td>\n",
              "      <td>Seramik Sağlık Gereçleri</td>\n",
              "      <td>Büyük Parçalar</td>\n",
              "      <td>-672.75000</td>\n",
              "      <td>-1.0</td>\n",
              "      <td>B</td>\n",
              "      <td>Friday</td>\n",
              "      <td>May</td>\n",
              "      <td>2019</td>\n",
              "    </tr>\n",
              "    <tr>\n",
              "      <th>13479</th>\n",
              "      <td>anon_S0</td>\n",
              "      <td>120.05.183</td>\n",
              "      <td>EMD2019000000078</td>\n",
              "      <td>2019-05-30</td>\n",
              "      <td>SSG &amp; Tamamlayıcılar</td>\n",
              "      <td>Seramik Sağlık Gereçleri</td>\n",
              "      <td>Büyük Parçalar</td>\n",
              "      <td>-2691.59400</td>\n",
              "      <td>-1.0</td>\n",
              "      <td>B</td>\n",
              "      <td>Thursday</td>\n",
              "      <td>May</td>\n",
              "      <td>2019</td>\n",
              "    </tr>\n",
              "    <tr>\n",
              "      <th>14046</th>\n",
              "      <td>anon_S0</td>\n",
              "      <td>120.05.183</td>\n",
              "      <td>EMD2019000000087</td>\n",
              "      <td>2019-06-20</td>\n",
              "      <td>SSG &amp; Tamamlayıcılar</td>\n",
              "      <td>Seramik Sağlık Gereçleri</td>\n",
              "      <td>Büyük Parçalar</td>\n",
              "      <td>-139.86000</td>\n",
              "      <td>-1.0</td>\n",
              "      <td>B</td>\n",
              "      <td>Thursday</td>\n",
              "      <td>June</td>\n",
              "      <td>2019</td>\n",
              "    </tr>\n",
              "    <tr>\n",
              "      <th>14576</th>\n",
              "      <td>anon_S0</td>\n",
              "      <td>120.05.183</td>\n",
              "      <td>EMD2019000000097</td>\n",
              "      <td>2019-07-12</td>\n",
              "      <td>Armatür, Aksesuar &amp; Gömme Reze</td>\n",
              "      <td>Armatürler</td>\n",
              "      <td>Armatür</td>\n",
              "      <td>-726.42960</td>\n",
              "      <td>-1.0</td>\n",
              "      <td>A</td>\n",
              "      <td>Friday</td>\n",
              "      <td>July</td>\n",
              "      <td>2019</td>\n",
              "    </tr>\n",
              "    <tr>\n",
              "      <th>14583</th>\n",
              "      <td>anon_S0</td>\n",
              "      <td>120.05.183</td>\n",
              "      <td>EMD2019000000103</td>\n",
              "      <td>2019-07-20</td>\n",
              "      <td>Armatür, Aksesuar &amp; Gömme Reze</td>\n",
              "      <td>Gömme/Plastik Rezervuar</td>\n",
              "      <td>Gömme Rezervuar</td>\n",
              "      <td>-180.00000</td>\n",
              "      <td>-1.0</td>\n",
              "      <td>C</td>\n",
              "      <td>Saturday</td>\n",
              "      <td>July</td>\n",
              "      <td>2019</td>\n",
              "    </tr>\n",
              "    <tr>\n",
              "      <th>14911</th>\n",
              "      <td>anon_S0</td>\n",
              "      <td>120.05.183</td>\n",
              "      <td>EMD2019000000100</td>\n",
              "      <td>2019-07-19</td>\n",
              "      <td>SSG &amp; Tamamlayıcılar</td>\n",
              "      <td>Seramik Sağlık Gereçleri</td>\n",
              "      <td>Büyük Parçalar</td>\n",
              "      <td>-3464.98200</td>\n",
              "      <td>-1.0</td>\n",
              "      <td>B</td>\n",
              "      <td>Friday</td>\n",
              "      <td>July</td>\n",
              "      <td>2019</td>\n",
              "    </tr>\n",
              "    <tr>\n",
              "      <th>17111</th>\n",
              "      <td>anon_S0</td>\n",
              "      <td>120.05.183</td>\n",
              "      <td>EMD2019000000152</td>\n",
              "      <td>2019-10-12</td>\n",
              "      <td>Armatür, Aksesuar &amp; Gömme Reze</td>\n",
              "      <td>Gömme/Plastik Rezervuar</td>\n",
              "      <td>Gömme Rezervuar</td>\n",
              "      <td>-1506.00000</td>\n",
              "      <td>-1.0</td>\n",
              "      <td>C</td>\n",
              "      <td>Saturday</td>\n",
              "      <td>October</td>\n",
              "      <td>2019</td>\n",
              "    </tr>\n",
              "    <tr>\n",
              "      <th>17193</th>\n",
              "      <td>anon_S0</td>\n",
              "      <td>120.05.183</td>\n",
              "      <td>EMD2019000000152</td>\n",
              "      <td>2019-10-12</td>\n",
              "      <td>SSG &amp; Tamamlayıcılar</td>\n",
              "      <td>Seramik Sağlık Gereçleri</td>\n",
              "      <td>Büyük Parçalar</td>\n",
              "      <td>-1972.89000</td>\n",
              "      <td>-1.0</td>\n",
              "      <td>B</td>\n",
              "      <td>Saturday</td>\n",
              "      <td>October</td>\n",
              "      <td>2019</td>\n",
              "    </tr>\n",
              "    <tr>\n",
              "      <th>18100</th>\n",
              "      <td>anon_S0</td>\n",
              "      <td>120.05.183</td>\n",
              "      <td>EMD2019000000170</td>\n",
              "      <td>2019-11-22</td>\n",
              "      <td>SSG &amp; Tamamlayıcılar</td>\n",
              "      <td>Seramik Sağlık Gereçleri</td>\n",
              "      <td>Büyük Parçalar</td>\n",
              "      <td>-849.00000</td>\n",
              "      <td>-1.0</td>\n",
              "      <td>B</td>\n",
              "      <td>Friday</td>\n",
              "      <td>November</td>\n",
              "      <td>2019</td>\n",
              "    </tr>\n",
              "    <tr>\n",
              "      <th>18929</th>\n",
              "      <td>anon_S0</td>\n",
              "      <td>120.05.183</td>\n",
              "      <td>EMD2019000000176</td>\n",
              "      <td>2019-12-11</td>\n",
              "      <td>SSG &amp; Tamamlayıcılar</td>\n",
              "      <td>Seramik Sağlık Gereçleri</td>\n",
              "      <td>Büyük Parçalar</td>\n",
              "      <td>-883.11600</td>\n",
              "      <td>-1.0</td>\n",
              "      <td>B</td>\n",
              "      <td>Wednesday</td>\n",
              "      <td>December</td>\n",
              "      <td>2019</td>\n",
              "    </tr>\n",
              "    <tr>\n",
              "      <th>21041</th>\n",
              "      <td>anon_S0</td>\n",
              "      <td>120.05.183</td>\n",
              "      <td>EMD2020000000034</td>\n",
              "      <td>2020-03-10</td>\n",
              "      <td>SSG &amp; Tamamlayıcılar</td>\n",
              "      <td>Seramik Sağlık Gereçleri</td>\n",
              "      <td>Büyük Parçalar</td>\n",
              "      <td>-2616.00000</td>\n",
              "      <td>-1.0</td>\n",
              "      <td>B</td>\n",
              "      <td>Tuesday</td>\n",
              "      <td>March</td>\n",
              "      <td>2020</td>\n",
              "    </tr>\n",
              "    <tr>\n",
              "      <th>21864</th>\n",
              "      <td>anon_S0</td>\n",
              "      <td>120.05.183</td>\n",
              "      <td>EMD2020000000066</td>\n",
              "      <td>2020-05-22</td>\n",
              "      <td>Armatür, Aksesuar &amp; Gömme Reze</td>\n",
              "      <td>Armatürler</td>\n",
              "      <td>Armatür</td>\n",
              "      <td>-12675.07200</td>\n",
              "      <td>-1.0</td>\n",
              "      <td>A</td>\n",
              "      <td>Friday</td>\n",
              "      <td>May</td>\n",
              "      <td>2020</td>\n",
              "    </tr>\n",
              "    <tr>\n",
              "      <th>22287</th>\n",
              "      <td>anon_S0</td>\n",
              "      <td>120.05.183</td>\n",
              "      <td>EMD2020000000064</td>\n",
              "      <td>2020-05-22</td>\n",
              "      <td>SSG &amp; Tamamlayıcılar</td>\n",
              "      <td>Seramik Sağlık Gereçleri</td>\n",
              "      <td>Büyük Parçalar</td>\n",
              "      <td>-4165.44000</td>\n",
              "      <td>-2.0</td>\n",
              "      <td>B</td>\n",
              "      <td>Friday</td>\n",
              "      <td>May</td>\n",
              "      <td>2020</td>\n",
              "    </tr>\n",
              "    <tr>\n",
              "      <th>23217</th>\n",
              "      <td>anon_S0</td>\n",
              "      <td>120.05.183</td>\n",
              "      <td>EMD2020000000078</td>\n",
              "      <td>2020-06-17</td>\n",
              "      <td>SSG &amp; Tamamlayıcılar</td>\n",
              "      <td>Seramik Sağlık Gereçleri</td>\n",
              "      <td>Büyük Parçalar</td>\n",
              "      <td>-3166.32000</td>\n",
              "      <td>-1.0</td>\n",
              "      <td>B</td>\n",
              "      <td>Wednesday</td>\n",
              "      <td>June</td>\n",
              "      <td>2020</td>\n",
              "    </tr>\n",
              "    <tr>\n",
              "      <th>23363</th>\n",
              "      <td>anon_S0</td>\n",
              "      <td>120.05.183</td>\n",
              "      <td>EMD2020000000076</td>\n",
              "      <td>2020-06-16</td>\n",
              "      <td>SSG &amp; Tamamlayıcılar</td>\n",
              "      <td>Seramik Sağlık Gereçleri</td>\n",
              "      <td>Büyük Parçalar</td>\n",
              "      <td>-515.61600</td>\n",
              "      <td>-1.0</td>\n",
              "      <td>B</td>\n",
              "      <td>Tuesday</td>\n",
              "      <td>June</td>\n",
              "      <td>2020</td>\n",
              "    </tr>\n",
              "    <tr>\n",
              "      <th>23554</th>\n",
              "      <td>anon_S0</td>\n",
              "      <td>120.05.183</td>\n",
              "      <td>EMD2020000000078</td>\n",
              "      <td>2020-06-17</td>\n",
              "      <td>SSG &amp; Tamamlayıcılar</td>\n",
              "      <td>Seramik Sağlık Gereçleri</td>\n",
              "      <td>Büyük Parçalar</td>\n",
              "      <td>-1249.77600</td>\n",
              "      <td>-1.0</td>\n",
              "      <td>B</td>\n",
              "      <td>Wednesday</td>\n",
              "      <td>June</td>\n",
              "      <td>2020</td>\n",
              "    </tr>\n",
              "    <tr>\n",
              "      <th>24460</th>\n",
              "      <td>anon_S0</td>\n",
              "      <td>120.05.183</td>\n",
              "      <td>EMD2020000000095</td>\n",
              "      <td>2020-07-20</td>\n",
              "      <td>SSG &amp; Tamamlayıcılar</td>\n",
              "      <td>Seramik Sağlık Gereçleri</td>\n",
              "      <td>Büyük Parçalar</td>\n",
              "      <td>-666.00000</td>\n",
              "      <td>-1.0</td>\n",
              "      <td>B</td>\n",
              "      <td>Monday</td>\n",
              "      <td>July</td>\n",
              "      <td>2020</td>\n",
              "    </tr>\n",
              "    <tr>\n",
              "      <th>24649</th>\n",
              "      <td>anon_S0</td>\n",
              "      <td>120.05.183</td>\n",
              "      <td>EMD2020000000102</td>\n",
              "      <td>2020-07-29</td>\n",
              "      <td>SSG &amp; Tamamlayıcılar</td>\n",
              "      <td>Seramik Sağlık Gereçleri</td>\n",
              "      <td>Büyük Parçalar</td>\n",
              "      <td>-931.82400</td>\n",
              "      <td>-1.0</td>\n",
              "      <td>B</td>\n",
              "      <td>Wednesday</td>\n",
              "      <td>July</td>\n",
              "      <td>2020</td>\n",
              "    </tr>\n",
              "    <tr>\n",
              "      <th>25502</th>\n",
              "      <td>anon_S0</td>\n",
              "      <td>120.05.183</td>\n",
              "      <td>EMD2020000000130</td>\n",
              "      <td>2020-08-28</td>\n",
              "      <td>Armatür, Aksesuar &amp; Gömme Reze</td>\n",
              "      <td>Armatürler</td>\n",
              "      <td>Armatür</td>\n",
              "      <td>-7185.98400</td>\n",
              "      <td>-1.0</td>\n",
              "      <td>A</td>\n",
              "      <td>Friday</td>\n",
              "      <td>August</td>\n",
              "      <td>2020</td>\n",
              "    </tr>\n",
              "    <tr>\n",
              "      <th>26099</th>\n",
              "      <td>anon_S0</td>\n",
              "      <td>120.05.183</td>\n",
              "      <td>EMD2020000000125</td>\n",
              "      <td>2020-08-20</td>\n",
              "      <td>SSG &amp; Tamamlayıcılar</td>\n",
              "      <td>Seramik Sağlık Gereçleri</td>\n",
              "      <td>Büyük Parçalar</td>\n",
              "      <td>-9127.20240</td>\n",
              "      <td>-1.0</td>\n",
              "      <td>B</td>\n",
              "      <td>Thursday</td>\n",
              "      <td>August</td>\n",
              "      <td>2020</td>\n",
              "    </tr>\n",
              "    <tr>\n",
              "      <th>26593</th>\n",
              "      <td>anon_S0</td>\n",
              "      <td>120.05.183</td>\n",
              "      <td>EMD2020000000142</td>\n",
              "      <td>2020-09-15</td>\n",
              "      <td>Armatür, Aksesuar &amp; Gömme Reze</td>\n",
              "      <td>Armatürler</td>\n",
              "      <td>Armatür</td>\n",
              "      <td>-1748.50800</td>\n",
              "      <td>-1.0</td>\n",
              "      <td>A</td>\n",
              "      <td>Tuesday</td>\n",
              "      <td>September</td>\n",
              "      <td>2020</td>\n",
              "    </tr>\n",
              "    <tr>\n",
              "      <th>26639</th>\n",
              "      <td>anon_S0</td>\n",
              "      <td>120.05.183</td>\n",
              "      <td>EMD2020000000145</td>\n",
              "      <td>2020-09-17</td>\n",
              "      <td>Armatür, Aksesuar &amp; Gömme Reze</td>\n",
              "      <td>Armatürler</td>\n",
              "      <td>Armatür</td>\n",
              "      <td>-885.00000</td>\n",
              "      <td>-1.0</td>\n",
              "      <td>A</td>\n",
              "      <td>Thursday</td>\n",
              "      <td>September</td>\n",
              "      <td>2020</td>\n",
              "    </tr>\n",
              "    <tr>\n",
              "      <th>26847</th>\n",
              "      <td>anon_S0</td>\n",
              "      <td>120.05.183</td>\n",
              "      <td>EMD2020000000161</td>\n",
              "      <td>2020-09-25</td>\n",
              "      <td>Armatür, Aksesuar &amp; Gömme Reze</td>\n",
              "      <td>Armatürler</td>\n",
              "      <td>Armatür</td>\n",
              "      <td>-2988.57600</td>\n",
              "      <td>-1.0</td>\n",
              "      <td>A</td>\n",
              "      <td>Friday</td>\n",
              "      <td>September</td>\n",
              "      <td>2020</td>\n",
              "    </tr>\n",
              "    <tr>\n",
              "      <th>27147</th>\n",
              "      <td>anon_S0</td>\n",
              "      <td>120.05.183</td>\n",
              "      <td>EMD2020000000147</td>\n",
              "      <td>2020-09-17</td>\n",
              "      <td>SSG &amp; Tamamlayıcılar</td>\n",
              "      <td>Seramik Sağlık Gereçleri</td>\n",
              "      <td>Büyük Parçalar</td>\n",
              "      <td>-1443.69360</td>\n",
              "      <td>-1.0</td>\n",
              "      <td>B</td>\n",
              "      <td>Thursday</td>\n",
              "      <td>September</td>\n",
              "      <td>2020</td>\n",
              "    </tr>\n",
              "    <tr>\n",
              "      <th>27352</th>\n",
              "      <td>anon_S0</td>\n",
              "      <td>120.05.183</td>\n",
              "      <td>EMD2020000000146</td>\n",
              "      <td>2020-09-17</td>\n",
              "      <td>SSG &amp; Tamamlayıcılar</td>\n",
              "      <td>Seramik Sağlık Gereçleri</td>\n",
              "      <td>Büyük Parçalar</td>\n",
              "      <td>-1566.00000</td>\n",
              "      <td>-2.0</td>\n",
              "      <td>B</td>\n",
              "      <td>Thursday</td>\n",
              "      <td>September</td>\n",
              "      <td>2020</td>\n",
              "    </tr>\n",
              "    <tr>\n",
              "      <th>27678</th>\n",
              "      <td>anon_S0</td>\n",
              "      <td>120.05.183</td>\n",
              "      <td>EMD2020000000147</td>\n",
              "      <td>2020-09-17</td>\n",
              "      <td>SSG &amp; Tamamlayıcılar</td>\n",
              "      <td>Seramik Sağlık Gereçleri</td>\n",
              "      <td>Büyük Parçalar</td>\n",
              "      <td>-4853.72880</td>\n",
              "      <td>-1.0</td>\n",
              "      <td>B</td>\n",
              "      <td>Thursday</td>\n",
              "      <td>September</td>\n",
              "      <td>2020</td>\n",
              "    </tr>\n",
              "    <tr>\n",
              "      <th>27697</th>\n",
              "      <td>anon_S0</td>\n",
              "      <td>120.05.183</td>\n",
              "      <td>EMD2020000000147</td>\n",
              "      <td>2020-09-17</td>\n",
              "      <td>SSG &amp; Tamamlayıcılar</td>\n",
              "      <td>Seramik Sağlık Gereçleri</td>\n",
              "      <td>Büyük Parçalar</td>\n",
              "      <td>-8405.84880</td>\n",
              "      <td>-1.0</td>\n",
              "      <td>B</td>\n",
              "      <td>Thursday</td>\n",
              "      <td>September</td>\n",
              "      <td>2020</td>\n",
              "    </tr>\n",
              "    <tr>\n",
              "      <th>27940</th>\n",
              "      <td>anon_S0</td>\n",
              "      <td>120.05.183</td>\n",
              "      <td>EMD2020000000171</td>\n",
              "      <td>2020-10-09</td>\n",
              "      <td>Armatür, Aksesuar &amp; Gömme Reze</td>\n",
              "      <td>Armatürler</td>\n",
              "      <td>Armatür</td>\n",
              "      <td>-706.80000</td>\n",
              "      <td>-1.0</td>\n",
              "      <td>A</td>\n",
              "      <td>Friday</td>\n",
              "      <td>October</td>\n",
              "      <td>2020</td>\n",
              "    </tr>\n",
              "    <tr>\n",
              "      <th>27970</th>\n",
              "      <td>anon_S0</td>\n",
              "      <td>120.05.183</td>\n",
              "      <td>EMD2020000000171</td>\n",
              "      <td>2020-10-09</td>\n",
              "      <td>Armatür, Aksesuar &amp; Gömme Reze</td>\n",
              "      <td>Armatürler</td>\n",
              "      <td>Armatür</td>\n",
              "      <td>-1219.96800</td>\n",
              "      <td>-1.0</td>\n",
              "      <td>A</td>\n",
              "      <td>Friday</td>\n",
              "      <td>October</td>\n",
              "      <td>2020</td>\n",
              "    </tr>\n",
              "    <tr>\n",
              "      <th>28314</th>\n",
              "      <td>anon_S0</td>\n",
              "      <td>120.05.183</td>\n",
              "      <td>EMD2020000000187</td>\n",
              "      <td>2020-10-22</td>\n",
              "      <td>Armatür, Aksesuar &amp; Gömme Reze</td>\n",
              "      <td>Armatürler</td>\n",
              "      <td>Armatür</td>\n",
              "      <td>-3309.28800</td>\n",
              "      <td>-1.0</td>\n",
              "      <td>A</td>\n",
              "      <td>Thursday</td>\n",
              "      <td>October</td>\n",
              "      <td>2020</td>\n",
              "    </tr>\n",
              "    <tr>\n",
              "      <th>29527</th>\n",
              "      <td>anon_S0</td>\n",
              "      <td>120.05.183</td>\n",
              "      <td>EMD2020000000214</td>\n",
              "      <td>2020-11-17</td>\n",
              "      <td>Armatür, Aksesuar &amp; Gömme Reze</td>\n",
              "      <td>Armatürler</td>\n",
              "      <td>Armatür</td>\n",
              "      <td>-952.24800</td>\n",
              "      <td>-1.0</td>\n",
              "      <td>A</td>\n",
              "      <td>Tuesday</td>\n",
              "      <td>November</td>\n",
              "      <td>2020</td>\n",
              "    </tr>\n",
              "    <tr>\n",
              "      <th>29960</th>\n",
              "      <td>anon_S0</td>\n",
              "      <td>120.05.183</td>\n",
              "      <td>EMD2020000000212</td>\n",
              "      <td>2020-11-16</td>\n",
              "      <td>Armatür, Aksesuar &amp; Gömme Reze</td>\n",
              "      <td>Gömme/Plastik Rezervuar</td>\n",
              "      <td>Gömme Rezervuar</td>\n",
              "      <td>-3246.00000</td>\n",
              "      <td>-2.0</td>\n",
              "      <td>C</td>\n",
              "      <td>Monday</td>\n",
              "      <td>November</td>\n",
              "      <td>2020</td>\n",
              "    </tr>\n",
              "  </tbody>\n",
              "</table>\n",
              "</div>"
            ],
            "text/plain": [
              "      Yetkili Satıcı Kod Müşteri Kod  ...  MonthName  year\n",
              "907              anon_S0  120.05.183  ...   February  2018\n",
              "1310             anon_S0  120.05.183  ...   February  2018\n",
              "1369             anon_S0  120.05.183  ...   February  2018\n",
              "1619             anon_S0  120.05.183  ...      March  2018\n",
              "3335             anon_S0  120.05.183  ...      April  2018\n",
              "6500             anon_S0  120.05.183  ...     August  2018\n",
              "6619             anon_S0  120.05.183  ...     August  2018\n",
              "6914             anon_S0  120.05.183  ...     August  2018\n",
              "6915             anon_S0  120.05.183  ...     August  2018\n",
              "8116             anon_S0  120.05.183  ...    October  2018\n",
              "8313             anon_S0  120.05.183  ...    October  2018\n",
              "8499             anon_S0  120.05.183  ...    October  2018\n",
              "8557             anon_S0  120.05.183  ...    October  2018\n",
              "8580             anon_S0  120.05.183  ...    October  2018\n",
              "8677             anon_S0  120.05.183  ...   November  2018\n",
              "9592             anon_S0  120.05.183  ...   December  2018\n",
              "9634             anon_S0  120.05.183  ...   December  2018\n",
              "10563            anon_S0  120.05.183  ...    January  2019\n",
              "10812            anon_S0  120.05.183  ...    January  2019\n",
              "12238            anon_S0  120.05.183  ...      April  2019\n",
              "12783            anon_S0  120.05.183  ...        May  2019\n",
              "13386            anon_S0  120.05.183  ...        May  2019\n",
              "13461            anon_S0  120.05.183  ...        May  2019\n",
              "13479            anon_S0  120.05.183  ...        May  2019\n",
              "14046            anon_S0  120.05.183  ...       June  2019\n",
              "14576            anon_S0  120.05.183  ...       July  2019\n",
              "14583            anon_S0  120.05.183  ...       July  2019\n",
              "14911            anon_S0  120.05.183  ...       July  2019\n",
              "17111            anon_S0  120.05.183  ...    October  2019\n",
              "17193            anon_S0  120.05.183  ...    October  2019\n",
              "18100            anon_S0  120.05.183  ...   November  2019\n",
              "18929            anon_S0  120.05.183  ...   December  2019\n",
              "21041            anon_S0  120.05.183  ...      March  2020\n",
              "21864            anon_S0  120.05.183  ...        May  2020\n",
              "22287            anon_S0  120.05.183  ...        May  2020\n",
              "23217            anon_S0  120.05.183  ...       June  2020\n",
              "23363            anon_S0  120.05.183  ...       June  2020\n",
              "23554            anon_S0  120.05.183  ...       June  2020\n",
              "24460            anon_S0  120.05.183  ...       July  2020\n",
              "24649            anon_S0  120.05.183  ...       July  2020\n",
              "25502            anon_S0  120.05.183  ...     August  2020\n",
              "26099            anon_S0  120.05.183  ...     August  2020\n",
              "26593            anon_S0  120.05.183  ...  September  2020\n",
              "26639            anon_S0  120.05.183  ...  September  2020\n",
              "26847            anon_S0  120.05.183  ...  September  2020\n",
              "27147            anon_S0  120.05.183  ...  September  2020\n",
              "27352            anon_S0  120.05.183  ...  September  2020\n",
              "27678            anon_S0  120.05.183  ...  September  2020\n",
              "27697            anon_S0  120.05.183  ...  September  2020\n",
              "27940            anon_S0  120.05.183  ...    October  2020\n",
              "27970            anon_S0  120.05.183  ...    October  2020\n",
              "28314            anon_S0  120.05.183  ...    October  2020\n",
              "29527            anon_S0  120.05.183  ...   November  2020\n",
              "29960            anon_S0  120.05.183  ...   November  2020\n",
              "\n",
              "[54 rows x 13 columns]"
            ]
          },
          "metadata": {},
          "execution_count": 34
        }
      ]
    },
    {
      "cell_type": "markdown",
      "metadata": {
        "id": "oW9P608qtQS4"
      },
      "source": [
        "2018, 2019 ve 2020 yıllarında farklı hiyerarşilerden 54 tane ürün iade edilmiş."
      ]
    },
    {
      "cell_type": "code",
      "metadata": {
        "id": "hjc5W0gNtF8h"
      },
      "source": [
        "# İade miktarı 10 dan fazla olan müşterileri görmek istedim.\n"
      ],
      "execution_count": null,
      "outputs": []
    },
    {
      "cell_type": "code",
      "metadata": {
        "colab": {
          "base_uri": "https://localhost:8080/",
          "height": 264
        },
        "id": "LuTC2XVVt5Bb",
        "outputId": "4235793d-e01d-41d8-c5f6-16a6ee037013"
      },
      "source": [
        "labels = 'Iade_A', 'Iade_B', 'Iade_C'\n",
        "sections = [543,638,108]\n",
        "colors = ['c', 'g', 'y']\n",
        "\n",
        "plt.pie(sections, labels=labels, colors=colors,\n",
        "        startangle=90,\n",
        "        explode = (0, 0.1, 0),\n",
        "        autopct = '%1.2f%%')\n",
        "\n",
        "plt.axis('equal') \n",
        "plt.title('Pie Chart ')\n",
        "plt.show()"
      ],
      "execution_count": null,
      "outputs": [
        {
          "output_type": "display_data",
          "data": {
            "image/png": "[encoded data removed]",
            "text/plain": [
              "<Figure size 432x288 with 1 Axes>"
            ]
          },
          "metadata": {}
        }
      ]
    }
  ]
}