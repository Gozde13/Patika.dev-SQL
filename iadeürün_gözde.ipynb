{
  "nbformat": 4,
  "nbformat_minor": 0,
  "metadata": {
    "colab": {
      "name": "iadeürün-gözde.ipynb",
      "provenance": []
    },
    "kernelspec": {
      "name": "python3",
      "display_name": "Python 3"
    },
    "language_info": {
      "name": "python"
    }
  },
  "cells": [
    {
      "cell_type": "markdown",
      "metadata": {
        "id": "X90lzVhVJaNu"
      },
      "source": [
        "Importing Libraries"
      ]
    },
    {
      "cell_type": "code",
      "metadata": {
        "id": "DQLP7vLcHAiG"
      },
      "source": [
        "import pandas as pd\n",
        "import numpy as np\n",
        "import seaborn as sns\n",
        "import matplotlib.pyplot as plt\n",
        "%matplotlib inline "
      ],
      "execution_count": null,
      "outputs": []
    },
    {
      "cell_type": "code",
      "metadata": {
        "colab": {
          "base_uri": "https://localhost:8080/",
          "height": 204
        },
        "id": "jItXSb4kIz_M",
        "outputId": "481f6ce5-b8fa-48e0-8187-c5a233ede238"
      },
      "source": [
        "df = pd.read_csv('EYAP_BAYI_SATIS.csv', encoding ='ISO-8859-9', sep=\";\", header=0)\n",
        "df.head()"
      ],
      "execution_count": null,
      "outputs": [
        {
          "output_type": "execute_result",
          "data": {
            "text/html": [
              "<div>\n",
              "<style scoped>\n",
              "    .dataframe tbody tr th:only-of-type {\n",
              "        vertical-align: middle;\n",
              "    }\n",
              "\n",
              "    .dataframe tbody tr th {\n",
              "        vertical-align: top;\n",
              "    }\n",
              "\n",
              "    .dataframe thead th {\n",
              "        text-align: right;\n",
              "    }\n",
              "</style>\n",
              "<table border=\"1\" class=\"dataframe\">\n",
              "  <thead>\n",
              "    <tr style=\"text-align: right;\">\n",
              "      <th></th>\n",
              "      <th>Yetkili Satıcı Kod</th>\n",
              "      <th>Müşteri Kod</th>\n",
              "      <th>MatbuNo</th>\n",
              "      <th>FaturaTarihi</th>\n",
              "      <th>Hiyerarşi 1</th>\n",
              "      <th>Hiyerarşi 2</th>\n",
              "      <th>Hiyerarşi 3</th>\n",
              "      <th>Net Fiyat_Sum</th>\n",
              "      <th>Adet_Sum</th>\n",
              "      <th>URUN</th>\n",
              "    </tr>\n",
              "  </thead>\n",
              "  <tbody>\n",
              "    <tr>\n",
              "      <th>0</th>\n",
              "      <td>anon_S0</td>\n",
              "      <td>120.05.183</td>\n",
              "      <td>OLC2018000000145</td>\n",
              "      <td>2018.01.12</td>\n",
              "      <td>Armatür, Aksesuar &amp; Gömme Reze</td>\n",
              "      <td>Armatürler</td>\n",
              "      <td>Armatür</td>\n",
              "      <td>1150.56</td>\n",
              "      <td>1.0</td>\n",
              "      <td>A</td>\n",
              "    </tr>\n",
              "    <tr>\n",
              "      <th>1</th>\n",
              "      <td>anon_S2</td>\n",
              "      <td>120.12.TKV0246</td>\n",
              "      <td>AR52018000000146</td>\n",
              "      <td>2018.01.31</td>\n",
              "      <td>Armatür, Aksesuar &amp; Gömme Reze</td>\n",
              "      <td>Armatürler</td>\n",
              "      <td>Armatür</td>\n",
              "      <td>6240.00</td>\n",
              "      <td>5.0</td>\n",
              "      <td>A</td>\n",
              "    </tr>\n",
              "    <tr>\n",
              "      <th>2</th>\n",
              "      <td>anon_S0</td>\n",
              "      <td>120.15.510</td>\n",
              "      <td>EO12018000000545</td>\n",
              "      <td>2018.01.23</td>\n",
              "      <td>Armatür, Aksesuar &amp; Gömme Reze</td>\n",
              "      <td>Armatürler</td>\n",
              "      <td>Armatür</td>\n",
              "      <td>1342.80</td>\n",
              "      <td>1.0</td>\n",
              "      <td>A</td>\n",
              "    </tr>\n",
              "    <tr>\n",
              "      <th>3</th>\n",
              "      <td>anon_S2</td>\n",
              "      <td>120.SB.ANT2294</td>\n",
              "      <td>AR82018000000016</td>\n",
              "      <td>2018.01.03</td>\n",
              "      <td>Armatür, Aksesuar &amp; Gömme Reze</td>\n",
              "      <td>Armatürler</td>\n",
              "      <td>Armatür</td>\n",
              "      <td>2250.00</td>\n",
              "      <td>2.0</td>\n",
              "      <td>A</td>\n",
              "    </tr>\n",
              "    <tr>\n",
              "      <th>4</th>\n",
              "      <td>anon_S2</td>\n",
              "      <td>120.SB.LARA0088</td>\n",
              "      <td>AR82018000000006</td>\n",
              "      <td>2018.01.03</td>\n",
              "      <td>Armatür, Aksesuar &amp; Gömme Reze</td>\n",
              "      <td>Armatürler</td>\n",
              "      <td>Armatür</td>\n",
              "      <td>1230.00</td>\n",
              "      <td>1.0</td>\n",
              "      <td>A</td>\n",
              "    </tr>\n",
              "  </tbody>\n",
              "</table>\n",
              "</div>"
            ],
            "text/plain": [
              "  Yetkili Satıcı Kod      Müşteri Kod  ... Adet_Sum URUN\n",
              "0            anon_S0       120.05.183  ...      1.0    A\n",
              "1            anon_S2   120.12.TKV0246  ...      5.0    A\n",
              "2            anon_S0       120.15.510  ...      1.0    A\n",
              "3            anon_S2   120.SB.ANT2294  ...      2.0    A\n",
              "4            anon_S2  120.SB.LARA0088  ...      1.0    A\n",
              "\n",
              "[5 rows x 10 columns]"
            ]
          },
          "metadata": {},
          "execution_count": 181
        }
      ]
    },
    {
      "cell_type": "code",
      "metadata": {
        "colab": {
          "base_uri": "https://localhost:8080/"
        },
        "id": "h8HCYmK3I2VL",
        "outputId": "fc82c2ba-c41a-4cfc-f43b-6887f446e047"
      },
      "source": [
        "df.info()"
      ],
      "execution_count": null,
      "outputs": [
        {
          "output_type": "stream",
          "text": [
            "<class 'pandas.core.frame.DataFrame'>\n",
            "RangeIndex: 30449 entries, 0 to 30448\n",
            "Data columns (total 10 columns):\n",
            " #   Column              Non-Null Count  Dtype  \n",
            "---  ------              --------------  -----  \n",
            " 0   Yetkili Satıcı Kod  30449 non-null  object \n",
            " 1   Müşteri Kod         30449 non-null  object \n",
            " 2   MatbuNo             30449 non-null  object \n",
            " 3   FaturaTarihi        30449 non-null  object \n",
            " 4   Hiyerarşi 1         30449 non-null  object \n",
            " 5   Hiyerarşi 2         30449 non-null  object \n",
            " 6   Hiyerarşi 3         30449 non-null  object \n",
            " 7   Net Fiyat_Sum       30449 non-null  float64\n",
            " 8   Adet_Sum            30449 non-null  float64\n",
            " 9   URUN                30449 non-null  object \n",
            "dtypes: float64(2), object(8)\n",
            "memory usage: 2.3+ MB\n"
          ],
          "name": "stdout"
        }
      ]
    },
    {
      "cell_type": "code",
      "metadata": {
        "id": "BNgPStERI4az"
      },
      "source": [
        "df['FaturaTarihi'] = pd.to_datetime(df['FaturaTarihi'])"
      ],
      "execution_count": null,
      "outputs": []
    },
    {
      "cell_type": "code",
      "metadata": {
        "id": "FyMD2THeI81K"
      },
      "source": [
        "df['Weekday'] = df['FaturaTarihi'].dt.day_name()"
      ],
      "execution_count": null,
      "outputs": []
    },
    {
      "cell_type": "code",
      "metadata": {
        "id": "XJkZevVHI-g7"
      },
      "source": [
        "df['MonthName'] = df['FaturaTarihi'].dt.month_name()"
      ],
      "execution_count": null,
      "outputs": []
    },
    {
      "cell_type": "code",
      "metadata": {
        "id": "7I09kTMBLfxD"
      },
      "source": [
        "df[\"year\"] = df['FaturaTarihi'].map(lambda x: x.year)"
      ],
      "execution_count": null,
      "outputs": []
    },
    {
      "cell_type": "markdown",
      "metadata": {
        "id": "UsC0N8MgMOS5"
      },
      "source": [
        "iade edilen ürünler için bir data frame oluşturacağım."
      ]
    },
    {
      "cell_type": "code",
      "metadata": {
        "id": "P_RpCF_EMGEq"
      },
      "source": [
        "iade_urunler = df[df['Net Fiyat_Sum']<0]"
      ],
      "execution_count": null,
      "outputs": []
    },
    {
      "cell_type": "code",
      "metadata": {
        "colab": {
          "base_uri": "https://localhost:8080/",
          "height": 142
        },
        "id": "DBecjK6cJAWS",
        "outputId": "4dd4bcfe-2e72-4e03-fa0d-23a2cf9aed5a"
      },
      "source": [
        "iade_urunler.corr()"
      ],
      "execution_count": null,
      "outputs": [
        {
          "output_type": "execute_result",
          "data": {
            "text/html": [
              "<div>\n",
              "<style scoped>\n",
              "    .dataframe tbody tr th:only-of-type {\n",
              "        vertical-align: middle;\n",
              "    }\n",
              "\n",
              "    .dataframe tbody tr th {\n",
              "        vertical-align: top;\n",
              "    }\n",
              "\n",
              "    .dataframe thead th {\n",
              "        text-align: right;\n",
              "    }\n",
              "</style>\n",
              "<table border=\"1\" class=\"dataframe\">\n",
              "  <thead>\n",
              "    <tr style=\"text-align: right;\">\n",
              "      <th></th>\n",
              "      <th>Net Fiyat_Sum</th>\n",
              "      <th>Adet_Sum</th>\n",
              "      <th>year</th>\n",
              "    </tr>\n",
              "  </thead>\n",
              "  <tbody>\n",
              "    <tr>\n",
              "      <th>Net Fiyat_Sum</th>\n",
              "      <td>1.000000</td>\n",
              "      <td>0.620105</td>\n",
              "      <td>-0.147755</td>\n",
              "    </tr>\n",
              "    <tr>\n",
              "      <th>Adet_Sum</th>\n",
              "      <td>0.620105</td>\n",
              "      <td>1.000000</td>\n",
              "      <td>-0.057482</td>\n",
              "    </tr>\n",
              "    <tr>\n",
              "      <th>year</th>\n",
              "      <td>-0.147755</td>\n",
              "      <td>-0.057482</td>\n",
              "      <td>1.000000</td>\n",
              "    </tr>\n",
              "  </tbody>\n",
              "</table>\n",
              "</div>"
            ],
            "text/plain": [
              "               Net Fiyat_Sum  Adet_Sum      year\n",
              "Net Fiyat_Sum       1.000000  0.620105 -0.147755\n",
              "Adet_Sum            0.620105  1.000000 -0.057482\n",
              "year               -0.147755 -0.057482  1.000000"
            ]
          },
          "metadata": {},
          "execution_count": 251
        }
      ]
    },
    {
      "cell_type": "code",
      "metadata": {
        "colab": {
          "base_uri": "https://localhost:8080/",
          "height": 306
        },
        "id": "SRLWy9SaK_bK",
        "outputId": "e2081004-6d44-454c-e8c9-72448cc9eb5f"
      },
      "source": [
        "iade_urunler.head()"
      ],
      "execution_count": null,
      "outputs": [
        {
          "output_type": "execute_result",
          "data": {
            "text/html": [
              "<div>\n",
              "<style scoped>\n",
              "    .dataframe tbody tr th:only-of-type {\n",
              "        vertical-align: middle;\n",
              "    }\n",
              "\n",
              "    .dataframe tbody tr th {\n",
              "        vertical-align: top;\n",
              "    }\n",
              "\n",
              "    .dataframe thead th {\n",
              "        text-align: right;\n",
              "    }\n",
              "</style>\n",
              "<table border=\"1\" class=\"dataframe\">\n",
              "  <thead>\n",
              "    <tr style=\"text-align: right;\">\n",
              "      <th></th>\n",
              "      <th>Yetkili Satıcı Kod</th>\n",
              "      <th>Müşteri Kod</th>\n",
              "      <th>MatbuNo</th>\n",
              "      <th>FaturaTarihi</th>\n",
              "      <th>Hiyerarşi 1</th>\n",
              "      <th>Hiyerarşi 2</th>\n",
              "      <th>Hiyerarşi 3</th>\n",
              "      <th>Net Fiyat_Sum</th>\n",
              "      <th>Adet_Sum</th>\n",
              "      <th>URUN</th>\n",
              "      <th>Weekday</th>\n",
              "      <th>MonthName</th>\n",
              "      <th>year</th>\n",
              "    </tr>\n",
              "  </thead>\n",
              "  <tbody>\n",
              "    <tr>\n",
              "      <th>33</th>\n",
              "      <td>anon_S2</td>\n",
              "      <td>120.SB.LARA0009</td>\n",
              "      <td>024465</td>\n",
              "      <td>2018-01-25</td>\n",
              "      <td>Armatür, Aksesuar &amp; Gömme Reze</td>\n",
              "      <td>Armatürler</td>\n",
              "      <td>Armatür</td>\n",
              "      <td>-2432.94</td>\n",
              "      <td>-1.0</td>\n",
              "      <td>A</td>\n",
              "      <td>Thursday</td>\n",
              "      <td>January</td>\n",
              "      <td>2018</td>\n",
              "    </tr>\n",
              "    <tr>\n",
              "      <th>118</th>\n",
              "      <td>anon_S0</td>\n",
              "      <td>120.15.510</td>\n",
              "      <td>391616</td>\n",
              "      <td>2018-01-16</td>\n",
              "      <td>Armatür, Aksesuar &amp; Gömme Reze</td>\n",
              "      <td>Armatürler</td>\n",
              "      <td>Armatür</td>\n",
              "      <td>-532.80</td>\n",
              "      <td>-1.0</td>\n",
              "      <td>A</td>\n",
              "      <td>Tuesday</td>\n",
              "      <td>January</td>\n",
              "      <td>2018</td>\n",
              "    </tr>\n",
              "    <tr>\n",
              "      <th>156</th>\n",
              "      <td>anon_S0</td>\n",
              "      <td>120.13.922</td>\n",
              "      <td>003969</td>\n",
              "      <td>2018-01-19</td>\n",
              "      <td>Armatür, Aksesuar &amp; Gömme Reze</td>\n",
              "      <td>Armatürler</td>\n",
              "      <td>Armatür</td>\n",
              "      <td>-1152.00</td>\n",
              "      <td>-1.0</td>\n",
              "      <td>A</td>\n",
              "      <td>Friday</td>\n",
              "      <td>January</td>\n",
              "      <td>2018</td>\n",
              "    </tr>\n",
              "    <tr>\n",
              "      <th>228</th>\n",
              "      <td>anon_S0</td>\n",
              "      <td>120.15.510</td>\n",
              "      <td>391616</td>\n",
              "      <td>2018-01-16</td>\n",
              "      <td>Armatür, Aksesuar &amp; Gömme Reze</td>\n",
              "      <td>Armatürler</td>\n",
              "      <td>Armatür</td>\n",
              "      <td>-1695.60</td>\n",
              "      <td>-1.0</td>\n",
              "      <td>A</td>\n",
              "      <td>Tuesday</td>\n",
              "      <td>January</td>\n",
              "      <td>2018</td>\n",
              "    </tr>\n",
              "    <tr>\n",
              "      <th>252</th>\n",
              "      <td>anon_S1</td>\n",
              "      <td>120.01.I1746</td>\n",
              "      <td>151028</td>\n",
              "      <td>2018-01-22</td>\n",
              "      <td>Armatür, Aksesuar &amp; Gömme Reze</td>\n",
              "      <td>Armatürler</td>\n",
              "      <td>Armatür</td>\n",
              "      <td>-2556.00</td>\n",
              "      <td>-3.0</td>\n",
              "      <td>A</td>\n",
              "      <td>Monday</td>\n",
              "      <td>January</td>\n",
              "      <td>2018</td>\n",
              "    </tr>\n",
              "  </tbody>\n",
              "</table>\n",
              "</div>"
            ],
            "text/plain": [
              "    Yetkili Satıcı Kod      Müşteri Kod MatbuNo  ...   Weekday MonthName  year\n",
              "33             anon_S2  120.SB.LARA0009  024465  ...  Thursday   January  2018\n",
              "118            anon_S0       120.15.510  391616  ...   Tuesday   January  2018\n",
              "156            anon_S0       120.13.922  003969  ...    Friday   January  2018\n",
              "228            anon_S0       120.15.510  391616  ...   Tuesday   January  2018\n",
              "252            anon_S1     120.01.I1746  151028  ...    Monday   January  2018\n",
              "\n",
              "[5 rows x 13 columns]"
            ]
          },
          "metadata": {},
          "execution_count": 252
        }
      ]
    },
    {
      "cell_type": "code",
      "metadata": {
        "colab": {
          "base_uri": "https://localhost:8080/",
          "height": 142
        },
        "id": "kro3hYGFLqri",
        "outputId": "31e685af-4d67-4f34-d26e-f6c5492c785f"
      },
      "source": [
        "iade_urunler.describe().T"
      ],
      "execution_count": null,
      "outputs": [
        {
          "output_type": "execute_result",
          "data": {
            "text/html": [
              "<div>\n",
              "<style scoped>\n",
              "    .dataframe tbody tr th:only-of-type {\n",
              "        vertical-align: middle;\n",
              "    }\n",
              "\n",
              "    .dataframe tbody tr th {\n",
              "        vertical-align: top;\n",
              "    }\n",
              "\n",
              "    .dataframe thead th {\n",
              "        text-align: right;\n",
              "    }\n",
              "</style>\n",
              "<table border=\"1\" class=\"dataframe\">\n",
              "  <thead>\n",
              "    <tr style=\"text-align: right;\">\n",
              "      <th></th>\n",
              "      <th>count</th>\n",
              "      <th>mean</th>\n",
              "      <th>std</th>\n",
              "      <th>min</th>\n",
              "      <th>25%</th>\n",
              "      <th>50%</th>\n",
              "      <th>75%</th>\n",
              "      <th>max</th>\n",
              "    </tr>\n",
              "  </thead>\n",
              "  <tbody>\n",
              "    <tr>\n",
              "      <th>Net Fiyat_Sum</th>\n",
              "      <td>1290.0</td>\n",
              "      <td>-3040.911176</td>\n",
              "      <td>4079.693636</td>\n",
              "      <td>-65408.4</td>\n",
              "      <td>-3750.0</td>\n",
              "      <td>-1866.15</td>\n",
              "      <td>-884.19</td>\n",
              "      <td>-6.0</td>\n",
              "    </tr>\n",
              "    <tr>\n",
              "      <th>Adet_Sum</th>\n",
              "      <td>1290.0</td>\n",
              "      <td>-1.501550</td>\n",
              "      <td>1.969216</td>\n",
              "      <td>-32.0</td>\n",
              "      <td>-1.0</td>\n",
              "      <td>-1.00</td>\n",
              "      <td>-1.00</td>\n",
              "      <td>-1.0</td>\n",
              "    </tr>\n",
              "    <tr>\n",
              "      <th>year</th>\n",
              "      <td>1290.0</td>\n",
              "      <td>2019.115504</td>\n",
              "      <td>0.824278</td>\n",
              "      <td>2018.0</td>\n",
              "      <td>2018.0</td>\n",
              "      <td>2019.00</td>\n",
              "      <td>2020.00</td>\n",
              "      <td>2020.0</td>\n",
              "    </tr>\n",
              "  </tbody>\n",
              "</table>\n",
              "</div>"
            ],
            "text/plain": [
              "                count         mean          std  ...      50%      75%     max\n",
              "Net Fiyat_Sum  1290.0 -3040.911176  4079.693636  ... -1866.15  -884.19    -6.0\n",
              "Adet_Sum       1290.0    -1.501550     1.969216  ...    -1.00    -1.00    -1.0\n",
              "year           1290.0  2019.115504     0.824278  ...  2019.00  2020.00  2020.0\n",
              "\n",
              "[3 rows x 8 columns]"
            ]
          },
          "metadata": {},
          "execution_count": 253
        }
      ]
    },
    {
      "cell_type": "code",
      "metadata": {
        "colab": {
          "base_uri": "https://localhost:8080/"
        },
        "id": "B9ZdkRhyMjMN",
        "outputId": "24ec8550-6990-4c19-e81c-587f08a50f9e"
      },
      "source": [
        "iade_urunler.info()"
      ],
      "execution_count": null,
      "outputs": [
        {
          "output_type": "stream",
          "text": [
            "<class 'pandas.core.frame.DataFrame'>\n",
            "Int64Index: 1290 entries, 33 to 30425\n",
            "Data columns (total 13 columns):\n",
            " #   Column              Non-Null Count  Dtype         \n",
            "---  ------              --------------  -----         \n",
            " 0   Yetkili Satıcı Kod  1290 non-null   object        \n",
            " 1   Müşteri Kod         1290 non-null   object        \n",
            " 2   MatbuNo             1290 non-null   object        \n",
            " 3   FaturaTarihi        1290 non-null   datetime64[ns]\n",
            " 4   Hiyerarşi 1         1290 non-null   object        \n",
            " 5   Hiyerarşi 2         1290 non-null   object        \n",
            " 6   Hiyerarşi 3         1290 non-null   object        \n",
            " 7   Net Fiyat_Sum       1290 non-null   float64       \n",
            " 8   Adet_Sum            1290 non-null   float64       \n",
            " 9   URUN                1290 non-null   object        \n",
            " 10  Weekday             1290 non-null   object        \n",
            " 11  MonthName           1290 non-null   object        \n",
            " 12  year                1290 non-null   int64         \n",
            "dtypes: datetime64[ns](1), float64(2), int64(1), object(9)\n",
            "memory usage: 141.1+ KB\n"
          ],
          "name": "stdout"
        }
      ]
    },
    {
      "cell_type": "markdown",
      "metadata": {
        "id": "RhFWCEyXMnOq"
      },
      "source": [
        "* iade edilen 1290 ürün var\n",
        "* Hangi ürünlerden daha çok iade edildiğine bakalım.\n"
      ]
    },
    {
      "cell_type": "code",
      "metadata": {
        "id": "4G5sEMFiwHRz",
        "outputId": "a4d0a8d1-81e4-4992-be24-fc7a2d1c8fd0",
        "colab": {
          "base_uri": "https://localhost:8080/",
          "height": 793
        }
      },
      "source": [
        "iade_ürünler"
      ],
      "execution_count": null,
      "outputs": [
        {
          "output_type": "execute_result",
          "data": {
            "text/html": [
              "<div>\n",
              "<style scoped>\n",
              "    .dataframe tbody tr th:only-of-type {\n",
              "        vertical-align: middle;\n",
              "    }\n",
              "\n",
              "    .dataframe tbody tr th {\n",
              "        vertical-align: top;\n",
              "    }\n",
              "\n",
              "    .dataframe thead th {\n",
              "        text-align: right;\n",
              "    }\n",
              "</style>\n",
              "<table border=\"1\" class=\"dataframe\">\n",
              "  <thead>\n",
              "    <tr style=\"text-align: right;\">\n",
              "      <th></th>\n",
              "      <th>Yetkili Satıcı Kod</th>\n",
              "      <th>Müşteri Kod</th>\n",
              "      <th>MatbuNo</th>\n",
              "      <th>FaturaTarihi</th>\n",
              "      <th>Hiyerarşi 1</th>\n",
              "      <th>Hiyerarşi 2</th>\n",
              "      <th>Hiyerarşi 3</th>\n",
              "      <th>Net Fiyat_Sum</th>\n",
              "      <th>Adet_Sum</th>\n",
              "      <th>URUN</th>\n",
              "      <th>Weekday</th>\n",
              "      <th>MonthName</th>\n",
              "      <th>year</th>\n",
              "    </tr>\n",
              "  </thead>\n",
              "  <tbody>\n",
              "    <tr>\n",
              "      <th>33</th>\n",
              "      <td>anon_S2</td>\n",
              "      <td>120.SB.LARA0009</td>\n",
              "      <td>024465</td>\n",
              "      <td>2018-01-25</td>\n",
              "      <td>Armatür, Aksesuar &amp; Gömme Reze</td>\n",
              "      <td>Armatürler</td>\n",
              "      <td>Armatür</td>\n",
              "      <td>-2432.940</td>\n",
              "      <td>-1.0</td>\n",
              "      <td>A</td>\n",
              "      <td>Thursday</td>\n",
              "      <td>January</td>\n",
              "      <td>2018</td>\n",
              "    </tr>\n",
              "    <tr>\n",
              "      <th>118</th>\n",
              "      <td>anon_S0</td>\n",
              "      <td>120.15.510</td>\n",
              "      <td>391616</td>\n",
              "      <td>2018-01-16</td>\n",
              "      <td>Armatür, Aksesuar &amp; Gömme Reze</td>\n",
              "      <td>Armatürler</td>\n",
              "      <td>Armatür</td>\n",
              "      <td>-532.800</td>\n",
              "      <td>-1.0</td>\n",
              "      <td>A</td>\n",
              "      <td>Tuesday</td>\n",
              "      <td>January</td>\n",
              "      <td>2018</td>\n",
              "    </tr>\n",
              "    <tr>\n",
              "      <th>156</th>\n",
              "      <td>anon_S0</td>\n",
              "      <td>120.13.922</td>\n",
              "      <td>003969</td>\n",
              "      <td>2018-01-19</td>\n",
              "      <td>Armatür, Aksesuar &amp; Gömme Reze</td>\n",
              "      <td>Armatürler</td>\n",
              "      <td>Armatür</td>\n",
              "      <td>-1152.000</td>\n",
              "      <td>-1.0</td>\n",
              "      <td>A</td>\n",
              "      <td>Friday</td>\n",
              "      <td>January</td>\n",
              "      <td>2018</td>\n",
              "    </tr>\n",
              "    <tr>\n",
              "      <th>228</th>\n",
              "      <td>anon_S0</td>\n",
              "      <td>120.15.510</td>\n",
              "      <td>391616</td>\n",
              "      <td>2018-01-16</td>\n",
              "      <td>Armatür, Aksesuar &amp; Gömme Reze</td>\n",
              "      <td>Armatürler</td>\n",
              "      <td>Armatür</td>\n",
              "      <td>-1695.600</td>\n",
              "      <td>-1.0</td>\n",
              "      <td>A</td>\n",
              "      <td>Tuesday</td>\n",
              "      <td>January</td>\n",
              "      <td>2018</td>\n",
              "    </tr>\n",
              "    <tr>\n",
              "      <th>252</th>\n",
              "      <td>anon_S1</td>\n",
              "      <td>120.01.I1746</td>\n",
              "      <td>151028</td>\n",
              "      <td>2018-01-22</td>\n",
              "      <td>Armatür, Aksesuar &amp; Gömme Reze</td>\n",
              "      <td>Armatürler</td>\n",
              "      <td>Armatür</td>\n",
              "      <td>-2556.000</td>\n",
              "      <td>-3.0</td>\n",
              "      <td>A</td>\n",
              "      <td>Monday</td>\n",
              "      <td>January</td>\n",
              "      <td>2018</td>\n",
              "    </tr>\n",
              "    <tr>\n",
              "      <th>...</th>\n",
              "      <td>...</td>\n",
              "      <td>...</td>\n",
              "      <td>...</td>\n",
              "      <td>...</td>\n",
              "      <td>...</td>\n",
              "      <td>...</td>\n",
              "      <td>...</td>\n",
              "      <td>...</td>\n",
              "      <td>...</td>\n",
              "      <td>...</td>\n",
              "      <td>...</td>\n",
              "      <td>...</td>\n",
              "      <td>...</td>\n",
              "    </tr>\n",
              "    <tr>\n",
              "      <th>30319</th>\n",
              "      <td>anon_S2</td>\n",
              "      <td>120.SB.ANT3727</td>\n",
              "      <td>I025259</td>\n",
              "      <td>2020-11-20</td>\n",
              "      <td>SSG &amp; Tamamlayıcılar</td>\n",
              "      <td>Seramik Sağlık Gereçleri</td>\n",
              "      <td>Büyük Parçalar</td>\n",
              "      <td>-8976.000</td>\n",
              "      <td>-1.0</td>\n",
              "      <td>B</td>\n",
              "      <td>Friday</td>\n",
              "      <td>November</td>\n",
              "      <td>2020</td>\n",
              "    </tr>\n",
              "    <tr>\n",
              "      <th>30364</th>\n",
              "      <td>anon_S0</td>\n",
              "      <td>120.19.659</td>\n",
              "      <td>GIB2020000000020</td>\n",
              "      <td>2020-11-26</td>\n",
              "      <td>SSG &amp; Tamamlayıcılar</td>\n",
              "      <td>Seramik Sağlık Gereçleri</td>\n",
              "      <td>Büyük Parçalar</td>\n",
              "      <td>-7818.000</td>\n",
              "      <td>-1.0</td>\n",
              "      <td>B</td>\n",
              "      <td>Thursday</td>\n",
              "      <td>November</td>\n",
              "      <td>2020</td>\n",
              "    </tr>\n",
              "    <tr>\n",
              "      <th>30381</th>\n",
              "      <td>anon_S1</td>\n",
              "      <td>120.01.A5692</td>\n",
              "      <td>151892</td>\n",
              "      <td>2020-11-02</td>\n",
              "      <td>SSG &amp; Tamamlayıcılar</td>\n",
              "      <td>Seramik Sağlık Gereçleri</td>\n",
              "      <td>Büyük Parçalar</td>\n",
              "      <td>-5052.600</td>\n",
              "      <td>-1.0</td>\n",
              "      <td>B</td>\n",
              "      <td>Monday</td>\n",
              "      <td>November</td>\n",
              "      <td>2020</td>\n",
              "    </tr>\n",
              "    <tr>\n",
              "      <th>30417</th>\n",
              "      <td>anon_S0</td>\n",
              "      <td>120.22.557</td>\n",
              "      <td>000746.</td>\n",
              "      <td>2020-11-20</td>\n",
              "      <td>SSG &amp; Tamamlayıcılar</td>\n",
              "      <td>Seramik Sağlık Gereçleri</td>\n",
              "      <td>Büyük Parçalar</td>\n",
              "      <td>-4445.532</td>\n",
              "      <td>-6.0</td>\n",
              "      <td>B</td>\n",
              "      <td>Friday</td>\n",
              "      <td>November</td>\n",
              "      <td>2020</td>\n",
              "    </tr>\n",
              "    <tr>\n",
              "      <th>30425</th>\n",
              "      <td>anon_S2</td>\n",
              "      <td>120.SB.ISP2698</td>\n",
              "      <td>I091688</td>\n",
              "      <td>2020-11-25</td>\n",
              "      <td>SSG &amp; Tamamlayıcılar</td>\n",
              "      <td>Seramik Sağlık Gereçleri</td>\n",
              "      <td>Büyük Parçalar</td>\n",
              "      <td>-909.060</td>\n",
              "      <td>-1.0</td>\n",
              "      <td>B</td>\n",
              "      <td>Wednesday</td>\n",
              "      <td>November</td>\n",
              "      <td>2020</td>\n",
              "    </tr>\n",
              "  </tbody>\n",
              "</table>\n",
              "<p>1290 rows × 13 columns</p>\n",
              "</div>"
            ],
            "text/plain": [
              "      Yetkili Satıcı Kod      Müşteri Kod  ... MonthName  year\n",
              "33               anon_S2  120.SB.LARA0009  ...   January  2018\n",
              "118              anon_S0       120.15.510  ...   January  2018\n",
              "156              anon_S0       120.13.922  ...   January  2018\n",
              "228              anon_S0       120.15.510  ...   January  2018\n",
              "252              anon_S1     120.01.I1746  ...   January  2018\n",
              "...                  ...              ...  ...       ...   ...\n",
              "30319            anon_S2   120.SB.ANT3727  ...  November  2020\n",
              "30364            anon_S0       120.19.659  ...  November  2020\n",
              "30381            anon_S1     120.01.A5692  ...  November  2020\n",
              "30417            anon_S0       120.22.557  ...  November  2020\n",
              "30425            anon_S2   120.SB.ISP2698  ...  November  2020\n",
              "\n",
              "[1290 rows x 13 columns]"
            ]
          },
          "metadata": {},
          "execution_count": 263
        }
      ]
    },
    {
      "cell_type": "code",
      "metadata": {
        "id": "SUtrBh36PTXa"
      },
      "source": [
        "from os import mkdir\n",
        "\n",
        "try:\n",
        "  mkdir('Plots')\n",
        "except:\n",
        "  pass\n",
        "\n",
        "  mypath='Plots'\n"
      ],
      "execution_count": null,
      "outputs": []
    },
    {
      "cell_type": "code",
      "metadata": {
        "colab": {
          "base_uri": "https://localhost:8080/",
          "height": 279
        },
        "id": "EasnpB1UM_Kl",
        "outputId": "c7499dd0-eaed-49f9-fc4c-57a68c6d44b8"
      },
      "source": [
        "sns.countplot(x=\"URUN\", data=iade_urunler)\n",
        "plt.savefig('Plots/countplot-iade edilen urunler.png')"
      ],
      "execution_count": null,
      "outputs": [
        {
          "output_type": "display_data",
          "data": {
            "image/png": "[encoded data removed]",
            "text/plain": [
              "<Figure size 432x288 with 1 Axes>"
            ]
          },
          "metadata": {
            "needs_background": "light"
          }
        }
      ]
    },
    {
      "cell_type": "markdown",
      "metadata": {
        "id": "C0_nazVpRNZh"
      },
      "source": [
        "En fazla B ürünü en az C ürünü iade edilmiş."
      ]
    },
    {
      "cell_type": "code",
      "metadata": {
        "colab": {
          "base_uri": "https://localhost:8080/",
          "height": 280
        },
        "id": "B9xnf9MeRUGs",
        "outputId": "6a099aca-275f-4f39-9990-1127084b0a32"
      },
      "source": [
        "sns.countplot(x=\"Yetkili Satıcı Kod\", data=iade_ürünler)\n",
        "plt.savefig('Plots/countplot-iade edilen urunleri yetkili saticilara göre siralaması.png')"
      ],
      "execution_count": null,
      "outputs": [
        {
          "output_type": "display_data",
          "data": {
            "image/png": "[encoded data removed]",
            "text/plain": [
              "<Figure size 432x288 with 1 Axes>"
            ]
          },
          "metadata": {
            "needs_background": "light"
          }
        }
      ]
    },
    {
      "cell_type": "markdown",
      "metadata": {
        "id": "UgXXhN-_Ro2I"
      },
      "source": [
        "En fazla anon_S2 'den en az anon_S1'den iade edilmiş"
      ]
    },
    {
      "cell_type": "code",
      "metadata": {
        "colab": {
          "base_uri": "https://localhost:8080/",
          "height": 283
        },
        "id": "Re_GeoIcPeig",
        "outputId": "d273512f-12a3-483b-da89-45ab58e88979"
      },
      "source": [
        "sns.barplot(x=\"year\", y=\"Net Fiyat_Sum\", hue=\"Hiyerarşi 3\", data=iade_ürünler)\n",
        "plt.savefig('Plots/bar_plot- İade edilen urunlerde yillara gore degisen urunlerin gosterimi.png')"
      ],
      "execution_count": null,
      "outputs": [
        {
          "output_type": "display_data",
          "data": {
            "image/png": "[encoded data removed]",
            "text/plain": [
              "<Figure size 432x288 with 1 Axes>"
            ]
          },
          "metadata": {
            "needs_background": "light"
          }
        }
      ]
    },
    {
      "cell_type": "code",
      "metadata": {
        "colab": {
          "base_uri": "https://localhost:8080/",
          "height": 300
        },
        "id": "5t1ItoTEP2nZ",
        "outputId": "03a3c8cf-5677-49e9-b5fa-0af9aa34352d"
      },
      "source": [
        "sns.barplot(x=\"year\", y=\"Adet_Sum\", hue=\"Hiyerarşi 3\", data=iade_ürünler) "
      ],
      "execution_count": null,
      "outputs": [
        {
          "output_type": "execute_result",
          "data": {
            "text/plain": [
              "<matplotlib.axes._subplots.AxesSubplot at 0x7f3107e0d2d0>"
            ]
          },
          "metadata": {},
          "execution_count": 196
        },
        {
          "output_type": "display_data",
          "data": {
            "image/png": "[encoded data removed]",
            "text/plain": [
              "<Figure size 432x288 with 1 Axes>"
            ]
          },
          "metadata": {
            "needs_background": "light"
          }
        }
      ]
    },
    {
      "cell_type": "code",
      "metadata": {
        "colab": {
          "base_uri": "https://localhost:8080/",
          "height": 283
        },
        "id": "X_C31zT-Q8bZ",
        "outputId": "a028ed26-2d31-4631-8d81-8fe1474f60e2"
      },
      "source": [
        "sns.barplot(x=\"year\", y=\"Net Fiyat_Sum\", data=iade_ürünler,\n",
        "                 color=\"salmon\", saturation=.5)\n",
        "plt.savefig('Plots/bar_plot- İade edilen ürünlerin yıllara göre tutarı.png')"
      ],
      "execution_count": null,
      "outputs": [
        {
          "output_type": "display_data",
          "data": {
            "image/png": "[encoded data removed]",
            "text/plain": [
              "<Figure size 432x288 with 1 Axes>"
            ]
          },
          "metadata": {
            "needs_background": "light"
          }
        }
      ]
    },
    {
      "cell_type": "markdown",
      "metadata": {
        "id": "cNDGfZJJSCEy"
      },
      "source": [
        "en fazla iade edilen ürün tutarı 2020 yılında elde edilmiş."
      ]
    },
    {
      "cell_type": "code",
      "metadata": {
        "id": "OUftIBckSlQJ",
        "colab": {
          "base_uri": "https://localhost:8080/",
          "height": 283
        },
        "outputId": "3662c8fd-a8ed-4c20-935b-bca33b7295d2"
      },
      "source": [
        "sns.barplot(x=\"year\", y=\"Adet_Sum\", data=iade_ürünler,\n",
        "                 color=\"salmon\", saturation=.5)\n",
        "plt.savefig('Plots/bar_plot- İade edilen ürün adetlerinin yıllara göre tutarı.png')"
      ],
      "execution_count": null,
      "outputs": [
        {
          "output_type": "display_data",
          "data": {
            "image/png": "[encoded data removed]",
            "text/plain": [
              "<Figure size 432x288 with 1 Axes>"
            ]
          },
          "metadata": {
            "needs_background": "light"
          }
        }
      ]
    },
    {
      "cell_type": "code",
      "metadata": {
        "id": "qiY_iL4KQ8Rh",
        "colab": {
          "base_uri": "https://localhost:8080/",
          "height": 400
        },
        "outputId": "92bff563-5a2f-453d-ac28-17b086fbd51a"
      },
      "source": [
        "sns.catplot(x=\"year\", y=\"Net Fiyat_Sum\", data=iade_ürünler)"
      ],
      "execution_count": null,
      "outputs": [
        {
          "output_type": "execute_result",
          "data": {
            "text/plain": [
              "<seaborn.axisgrid.FacetGrid at 0x7f3107672850>"
            ]
          },
          "metadata": {},
          "execution_count": 199
        },
        {
          "output_type": "display_data",
          "data": {
            "image/png": "[encoded data removed]",
            "text/plain": [
              "<Figure size 360x360 with 1 Axes>"
            ]
          },
          "metadata": {
            "needs_background": "light"
          }
        }
      ]
    },
    {
      "cell_type": "code",
      "metadata": {
        "id": "ph0snC-JJCmb"
      },
      "source": [
        "from os import mkdir\n",
        "\n",
        "try:\n",
        "  mkdir('Plots')\n",
        "except:\n",
        "  pass\n",
        "\n",
        "  mypath='Plots'\n",
        "\n"
      ],
      "execution_count": null,
      "outputs": []
    },
    {
      "cell_type": "code",
      "metadata": {
        "id": "APA8o5k8JNQL"
      },
      "source": [
        "import os \n",
        "from os import listdir, mkdir"
      ],
      "execution_count": null,
      "outputs": []
    },
    {
      "cell_type": "code",
      "metadata": {
        "id": "9iyCsplJJPxr"
      },
      "source": [
        "all_files=os.listdir('Plots')\n",
        "reports = [f'Plots/{file}' for file in all_files]"
      ],
      "execution_count": null,
      "outputs": []
    },
    {
      "cell_type": "code",
      "metadata": {
        "colab": {
          "base_uri": "https://localhost:8080/"
        },
        "id": "aIXUyDpXZOr9",
        "outputId": "10c7f04b-4ce0-435e-db72-2c4ff3f9fb97"
      },
      "source": [
        "print(reports)"
      ],
      "execution_count": null,
      "outputs": [
        {
          "output_type": "stream",
          "text": [
            "['Plots/countplot-iade edilen ürünlerin yetkili satıcılara göre sıralaması.png', 'Plots/bar_plot- İade edilen ürünlerin yıllara göre tutarı.png', 'Plots/countplot-iade edilen ürünler.png', 'Plots/bar_plot- İade edilen ürünlerde yıllara göre değişen ürünlerin gösterimi.png', 'Plots/bar_plot- İade edilen ürün adetlerinin yıllara göre tutarı.png']\n"
          ],
          "name": "stdout"
        }
      ]
    },
    {
      "cell_type": "code",
      "metadata": {
        "id": "gDCqu_SSJRgj",
        "colab": {
          "base_uri": "https://localhost:8080/"
        },
        "outputId": "ca5178b1-f019-4b40-8359-1294d4acab9e"
      },
      "source": [
        "!pip install FPDF"
      ],
      "execution_count": null,
      "outputs": [
        {
          "output_type": "stream",
          "text": [
            "Requirement already satisfied: FPDF in /usr/local/lib/python3.7/dist-packages (1.7.2)\n"
          ],
          "name": "stdout"
        }
      ]
    },
    {
      "cell_type": "code",
      "metadata": {
        "id": "HQdEoXrrJTYU"
      },
      "source": [
        "from fpdf import FPDF"
      ],
      "execution_count": null,
      "outputs": []
    },
    {
      "cell_type": "code",
      "metadata": {
        "id": "MBIvG6XqJVkL"
      },
      "source": [
        "WIDTH=210\n",
        "HEIGHT=297"
      ],
      "execution_count": null,
      "outputs": []
    },
    {
      "cell_type": "code",
      "metadata": {
        "id": "n178ddvVJYBs"
      },
      "source": [
        "pdf= FPDF()\n",
        "pdf.set_font('Arial', 'B', 56)\n",
        "pdf.add_page()\n",
        "\n",
        "pdf.cell(190, 20, txt='REPORT', align='C')\n",
        "\n",
        "for report in reports:\n",
        "  pdf.add_page()\n",
        "  pdf.set_font('Arial', 'B', 24)\n",
        "  pdf.cell(190, 20, txt=report, align='C')\n",
        "\n",
        "  pdf.image(report, 5, 30, WIDTH-5)\n"
      ],
      "execution_count": null,
      "outputs": []
    }
  ]
}